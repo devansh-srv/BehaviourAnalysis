{
 "cells": [
  {
   "cell_type": "code",
   "execution_count": null,
   "id": "4fe0166c",
   "metadata": {},
   "outputs": [],
   "source": [
    "!pip uninstall mediapipe\n",
    "# !pip install mediapipe"
   ]
  },
  {
   "cell_type": "code",
   "execution_count": 1,
   "id": "77dcdf36",
   "metadata": {},
   "outputs": [],
   "source": [
    "import cv2\n",
    "import mediapipe as mp\n",
    "import numpy as np\n",
    "import pandas as pd\n",
    "import csv"
   ]
  },
  {
   "cell_type": "code",
   "execution_count": 3,
   "id": "1a5456fa",
   "metadata": {},
   "outputs": [],
   "source": [
    "mp_drawing = mp.solutions.drawing_utils # Drawing helpers\n",
    "mp_holistic = mp.solutions.holistic # Mediapipe Solutions"
   ]
  },
  {
   "cell_type": "code",
   "execution_count": 5,
   "id": "55299b63",
   "metadata": {},
   "outputs": [
    {
     "name": "stdout",
     "output_type": "stream",
     "text": [
      "[ 0.08335486  0.47619551 -0.12045951 ...  0.52368534 -0.0109936\n",
      "  0.        ]\n",
      "[ 0.46593323  0.5318324  -0.06152707 ...  0.50843495  0.02029257\n",
      "  0.        ]\n",
      "[ 0.42073292  0.53965408 -0.27267492 ...  0.44757631  0.03032262\n",
      "  0.        ]\n"
     ]
    }
   ],
   "source": [
    "\n",
    "# Function to extract landmarks from a frame\n",
    "def extract_landmarks(frame):\n",
    "    with mp_holistic.Holistic(min_detection_confidence=0.5, min_tracking_confidence=0.5) as holistic:\n",
    "        image = cv2.cvtColor(frame, cv2.COLOR_BGR2RGB)\n",
    "        results = holistic.process(image)\n",
    "        \n",
    "        if results.pose_landmarks is None or results.face_landmarks is None:\n",
    "            return None\n",
    "        \n",
    "        pose_row = np.array([[landmark.x, landmark.y, landmark.z, landmark.visibility] for landmark in results.pose_landmarks.landmark]).flatten()\n",
    "        face_row = np.array([[landmark.x, landmark.y, landmark.z, landmark.visibility] for landmark in results.face_landmarks.landmark]).flatten()\n",
    "        landmarks = np.concatenate((pose_row, face_row))\n",
    "        return landmarks\n",
    "\n",
    "# Function to save landmarks and labels to a CSV file\n",
    "def save_to_csv(filename, landmarks, label):\n",
    "    with open(filename, mode='a', newline='') as f:\n",
    "        csv_writer = csv.writer(f, delimiter=',', quotechar='\"', quoting=csv.QUOTE_MINIMAL)\n",
    "        csv_writer.writerow([label] + landmarks.tolist())\n",
    "\n",
    "# Path to your labeled video\n",
    "video_path = 'D:\\Videos for ML\\V1.mp4'\n",
    "\n",
    "# Open the video file\n",
    "cap = cv2.VideoCapture(video_path)\n",
    "\n",
    "# Initialize variables\n",
    "data = []\n",
    "sequence_length = 10  # Adjust the sequence length as needed\n",
    "sequence_buffer = []\n",
    "\n",
    "# Process each frame of the video\n",
    "while cap.isOpened():\n",
    "    ret, frame = cap.read()\n",
    "    if not ret:\n",
    "        break\n",
    "    \n",
    "    # Extract landmarks\n",
    "    landmarks = extract_landmarks(frame)\n",
    "    \n",
    "    if landmarks is not None:\n",
    "        # Add landmarks to sequence buffer\n",
    "        sequence_buffer.append(landmarks)\n",
    "        \n",
    "        # If the buffer is full, create a sequence\n",
    "        if len(sequence_buffer) == sequence_length:\n",
    "            # Concatenate landmarks from all frames in the buffer\n",
    "            sequence = np.concatenate(sequence_buffer)\n",
    "            \n",
    "            # Append the sequence to the data list\n",
    "            data.append(sequence)\n",
    "            print(sequence)\n",
    "            # Clear the sequence buffer\n",
    "            sequence_buffer = []\n",
    "\n",
    "cap.release()\n",
    "\n",
    "# Convert the data list to a DataFrame\n",
    "df = pd.DataFrame(data)\n",
    "\n",
    "# Add labels to the DataFrame (assuming you have class labels for each video)\n",
    "# For simplicity, you can manually set the label here\n",
    "# Change 'class_name' to the label for the current video\n",
    "df['label'] = 'class_name'\n",
    "\n",
    "# Save the DataFrame to a CSV file\n",
    "df.to_csv('labeled_data.csv', index=False)  # Adjust filename as needed\n"
   ]
  }
 ],
 "metadata": {
  "kernelspec": {
   "display_name": "Python 3 (ipykernel)",
   "language": "python",
   "name": "python3"
  },
  "language_info": {
   "codemirror_mode": {
    "name": "ipython",
    "version": 3
   },
   "file_extension": ".py",
   "mimetype": "text/x-python",
   "name": "python",
   "nbconvert_exporter": "python",
   "pygments_lexer": "ipython3",
   "version": "3.11.7"
  }
 },
 "nbformat": 4,
 "nbformat_minor": 5
}
