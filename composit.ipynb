{
 "cells": [
  {
   "cell_type": "code",
   "execution_count": 1,
   "metadata": {},
   "outputs": [
    {
     "name": "stdout",
     "output_type": "stream",
     "text": [
      "Error: 'NoneType' object has no attribute 'landmark'\n",
      "Error: 'NoneType' object has no attribute 'landmark'\n",
      "Error: 'NoneType' object has no attribute 'landmark'\n",
      "Error: 'NoneType' object has no attribute 'landmark'\n",
      "Error: 'NoneType' object has no attribute 'landmark'\n",
      "Error: 'NoneType' object has no attribute 'landmark'\n",
      "Error: 'NoneType' object has no attribute 'landmark'\n",
      "Error: 'NoneType' object has no attribute 'landmark'\n",
      "Error: 'NoneType' object has no attribute 'landmark'\n",
      "Error: 'NoneType' object has no attribute 'landmark'\n",
      "Error: 'NoneType' object has no attribute 'landmark'\n",
      "Error: 'NoneType' object has no attribute 'landmark'\n",
      "Error: 'NoneType' object has no attribute 'landmark'\n",
      "Error: 'NoneType' object has no attribute 'landmark'\n",
      "Error: 'NoneType' object has no attribute 'landmark'\n",
      "Error: 'NoneType' object has no attribute 'landmark'\n",
      "Error: 'NoneType' object has no attribute 'landmark'\n",
      "Error: 'NoneType' object has no attribute 'landmark'\n",
      "Error: 'NoneType' object has no attribute 'landmark'\n",
      "Error: 'NoneType' object has no attribute 'landmark'\n",
      "Error: 'NoneType' object has no attribute 'landmark'\n",
      "Error: 'NoneType' object has no attribute 'landmark'\n",
      "Error: 'NoneType' object has no attribute 'landmark'\n",
      "Error: 'NoneType' object has no attribute 'landmark'\n",
      "Error: 'NoneType' object has no attribute 'landmark'\n",
      "Error: 'NoneType' object has no attribute 'landmark'\n",
      "Error: 'NoneType' object has no attribute 'landmark'\n",
      "Error: 'NoneType' object has no attribute 'landmark'\n",
      "Error: 'NoneType' object has no attribute 'landmark'\n",
      "Error: 'NoneType' object has no attribute 'landmark'\n",
      "Error: 'NoneType' object has no attribute 'landmark'\n",
      "Error: 'NoneType' object has no attribute 'landmark'\n",
      "Error: 'NoneType' object has no attribute 'landmark'\n",
      "Error: 'NoneType' object has no attribute 'landmark'\n",
      "Error: 'NoneType' object has no attribute 'landmark'\n",
      "Error: 'NoneType' object has no attribute 'landmark'\n",
      "Error: 'NoneType' object has no attribute 'landmark'\n",
      "Error: 'NoneType' object has no attribute 'landmark'\n",
      "Error: 'NoneType' object has no attribute 'landmark'\n",
      "Error: 'NoneType' object has no attribute 'landmark'\n",
      "Error: 'NoneType' object has no attribute 'landmark'\n",
      "Error: 'NoneType' object has no attribute 'landmark'\n",
      "Error: 'NoneType' object has no attribute 'landmark'\n",
      "Error: 'NoneType' object has no attribute 'landmark'\n",
      "Error: 'NoneType' object has no attribute 'landmark'\n",
      "Error: 'NoneType' object has no attribute 'landmark'\n",
      "Error: 'NoneType' object has no attribute 'landmark'\n",
      "Error: 'NoneType' object has no attribute 'landmark'\n",
      "Error: 'NoneType' object has no attribute 'landmark'\n",
      "Error: 'NoneType' object has no attribute 'landmark'\n",
      "Error: 'NoneType' object has no attribute 'landmark'\n",
      "Error: 'NoneType' object has no attribute 'landmark'\n",
      "Error: 'NoneType' object has no attribute 'landmark'\n",
      "Error: 'NoneType' object has no attribute 'landmark'\n",
      "Error: 'NoneType' object has no attribute 'landmark'\n",
      "Error: 'NoneType' object has no attribute 'landmark'\n",
      "Error: 'NoneType' object has no attribute 'landmark'\n",
      "Error: 'NoneType' object has no attribute 'landmark'\n",
      "Error: 'NoneType' object has no attribute 'landmark'\n",
      "Error: 'NoneType' object has no attribute 'landmark'\n",
      "Error: 'NoneType' object has no attribute 'landmark'\n",
      "Error: 'NoneType' object has no attribute 'landmark'\n",
      "Error: 'NoneType' object has no attribute 'landmark'\n",
      "Error: 'NoneType' object has no attribute 'landmark'\n",
      "Error: 'NoneType' object has no attribute 'landmark'\n",
      "Error: 'NoneType' object has no attribute 'landmark'\n",
      "Error: 'NoneType' object has no attribute 'landmark'\n",
      "Error: 'NoneType' object has no attribute 'landmark'\n",
      "Error: 'NoneType' object has no attribute 'landmark'\n",
      "Error: 'NoneType' object has no attribute 'landmark'\n",
      "Error: 'NoneType' object has no attribute 'landmark'\n",
      "Error: 'NoneType' object has no attribute 'landmark'\n",
      "Error: 'NoneType' object has no attribute 'landmark'\n",
      "Error: 'NoneType' object has no attribute 'landmark'\n",
      "Error: 'NoneType' object has no attribute 'landmark'\n",
      "Error: 'NoneType' object has no attribute 'landmark'\n",
      "Error: 'NoneType' object has no attribute 'landmark'\n",
      "Error: 'NoneType' object has no attribute 'landmark'\n",
      "Error: 'NoneType' object has no attribute 'landmark'\n",
      "Error: 'NoneType' object has no attribute 'landmark'\n",
      "Error: 'NoneType' object has no attribute 'landmark'\n",
      "Error: 'NoneType' object has no attribute 'landmark'\n",
      "Error: 'NoneType' object has no attribute 'landmark'\n",
      "Error: 'NoneType' object has no attribute 'landmark'\n",
      "Error: 'NoneType' object has no attribute 'landmark'\n",
      "Error: 'NoneType' object has no attribute 'landmark'\n",
      "Error: 'NoneType' object has no attribute 'landmark'\n",
      "Error: 'NoneType' object has no attribute 'landmark'\n",
      "Error: 'NoneType' object has no attribute 'landmark'\n",
      "Error: 'NoneType' object has no attribute 'landmark'\n",
      "Error: 'NoneType' object has no attribute 'landmark'\n",
      "Error: 'NoneType' object has no attribute 'landmark'\n",
      "Error: 'NoneType' object has no attribute 'landmark'\n",
      "Error: 'NoneType' object has no attribute 'landmark'\n",
      "Error: 'NoneType' object has no attribute 'landmark'\n",
      "Error: 'NoneType' object has no attribute 'landmark'\n",
      "Error: 'NoneType' object has no attribute 'landmark'\n",
      "Error: 'NoneType' object has no attribute 'landmark'\n",
      "Error: 'NoneType' object has no attribute 'landmark'\n",
      "Error: 'NoneType' object has no attribute 'landmark'\n",
      "Error: 'NoneType' object has no attribute 'landmark'\n",
      "Error: 'NoneType' object has no attribute 'landmark'\n",
      "Error: 'NoneType' object has no attribute 'landmark'\n",
      "Error: 'NoneType' object has no attribute 'landmark'\n",
      "Error: 'NoneType' object has no attribute 'landmark'\n",
      "Error: 'NoneType' object has no attribute 'landmark'\n",
      "Error: 'NoneType' object has no attribute 'landmark'\n",
      "Error: 'NoneType' object has no attribute 'landmark'\n",
      "Error: 'NoneType' object has no attribute 'landmark'\n",
      "Error: 'NoneType' object has no attribute 'landmark'\n",
      "Error: 'NoneType' object has no attribute 'landmark'\n",
      "Error: 'NoneType' object has no attribute 'landmark'\n",
      "Error: 'NoneType' object has no attribute 'landmark'\n",
      "Error: 'NoneType' object has no attribute 'landmark'\n",
      "Error: 'NoneType' object has no attribute 'landmark'\n",
      "Error: 'NoneType' object has no attribute 'landmark'\n",
      "Error: 'NoneType' object has no attribute 'landmark'\n",
      "1/1 [==============================] - 1s 850ms/step\n",
      "Emotion (FER): Fear\n",
      "Error: 'NoneType' object has no attribute 'landmark'\n",
      "Error: 'NoneType' object has no attribute 'landmark'\n",
      "Error: 'NoneType' object has no attribute 'landmark'\n",
      "Error: 'NoneType' object has no attribute 'landmark'\n",
      "Error: 'NoneType' object has no attribute 'landmark'\n",
      "Error: 'NoneType' object has no attribute 'landmark'\n",
      "Error: 'NoneType' object has no attribute 'landmark'\n",
      "Error: 'NoneType' object has no attribute 'landmark'\n",
      "Error: 'NoneType' object has no attribute 'landmark'\n",
      "1/1 [==============================] - 0s 51ms/step\n",
      "Emotion (FER): Angry\n",
      "Error: 'NoneType' object has no attribute 'landmark'\n",
      "Error: 'NoneType' object has no attribute 'landmark'\n",
      "Error: 'NoneType' object has no attribute 'landmark'\n",
      "Error: 'NoneType' object has no attribute 'landmark'\n",
      "1/1 [==============================] - 0s 53ms/step\n",
      "Emotion (FER): Angry\n",
      "Error: 'NoneType' object has no attribute 'landmark'\n",
      "Error: 'NoneType' object has no attribute 'landmark'\n",
      "Error: 'NoneType' object has no attribute 'landmark'\n",
      "Error: 'NoneType' object has no attribute 'landmark'\n",
      "Error: 'NoneType' object has no attribute 'landmark'\n",
      "Error: 'NoneType' object has no attribute 'landmark'\n",
      "Error: 'NoneType' object has no attribute 'landmark'\n",
      "Error: 'NoneType' object has no attribute 'landmark'\n",
      "Error: 'NoneType' object has no attribute 'landmark'\n",
      "Error: 'NoneType' object has no attribute 'landmark'\n",
      "Error: 'NoneType' object has no attribute 'landmark'\n",
      "Error: 'NoneType' object has no attribute 'landmark'\n",
      "Error: 'NoneType' object has no attribute 'landmark'\n"
     ]
    },
    {
     "name": "stderr",
     "output_type": "stream",
     "text": [
      "D:\\Softwares\\Anaconda\\Lib\\site-packages\\sklearn\\base.py:439: UserWarning: X does not have valid feature names, but StandardScaler was fitted with feature names\n",
      "  warnings.warn(\n",
      "D:\\Softwares\\Anaconda\\Lib\\site-packages\\sklearn\\base.py:439: UserWarning: X does not have valid feature names, but StandardScaler was fitted with feature names\n",
      "  warnings.warn(\n"
     ]
    },
    {
     "name": "stdout",
     "output_type": "stream",
     "text": [
      "Body Language: neutral [0.11 0.89 0.  ]\n",
      "1/1 [==============================] - 0s 53ms/step\n",
      "Emotion (FER): Angry\n"
     ]
    },
    {
     "name": "stderr",
     "output_type": "stream",
     "text": [
      "D:\\Softwares\\Anaconda\\Lib\\site-packages\\sklearn\\base.py:439: UserWarning: X does not have valid feature names, but StandardScaler was fitted with feature names\n",
      "  warnings.warn(\n",
      "D:\\Softwares\\Anaconda\\Lib\\site-packages\\sklearn\\base.py:439: UserWarning: X does not have valid feature names, but StandardScaler was fitted with feature names\n",
      "  warnings.warn(\n"
     ]
    },
    {
     "name": "stdout",
     "output_type": "stream",
     "text": [
      "Body Language: neutral [0.11 0.89 0.  ]\n",
      "1/1 [==============================] - 0s 55ms/step\n",
      "Emotion (FER): Neutral\n"
     ]
    },
    {
     "name": "stderr",
     "output_type": "stream",
     "text": [
      "D:\\Softwares\\Anaconda\\Lib\\site-packages\\sklearn\\base.py:439: UserWarning: X does not have valid feature names, but StandardScaler was fitted with feature names\n",
      "  warnings.warn(\n",
      "D:\\Softwares\\Anaconda\\Lib\\site-packages\\sklearn\\base.py:439: UserWarning: X does not have valid feature names, but StandardScaler was fitted with feature names\n",
      "  warnings.warn(\n"
     ]
    },
    {
     "name": "stdout",
     "output_type": "stream",
     "text": [
      "Body Language: neutral [0.11 0.89 0.  ]\n"
     ]
    },
    {
     "name": "stderr",
     "output_type": "stream",
     "text": [
      "D:\\Softwares\\Anaconda\\Lib\\site-packages\\sklearn\\base.py:439: UserWarning: X does not have valid feature names, but StandardScaler was fitted with feature names\n",
      "  warnings.warn(\n",
      "D:\\Softwares\\Anaconda\\Lib\\site-packages\\sklearn\\base.py:439: UserWarning: X does not have valid feature names, but StandardScaler was fitted with feature names\n",
      "  warnings.warn(\n"
     ]
    },
    {
     "name": "stdout",
     "output_type": "stream",
     "text": [
      "Body Language: neutral [0.11 0.89 0.  ]\n"
     ]
    },
    {
     "name": "stderr",
     "output_type": "stream",
     "text": [
      "D:\\Softwares\\Anaconda\\Lib\\site-packages\\sklearn\\base.py:439: UserWarning: X does not have valid feature names, but StandardScaler was fitted with feature names\n",
      "  warnings.warn(\n",
      "D:\\Softwares\\Anaconda\\Lib\\site-packages\\sklearn\\base.py:439: UserWarning: X does not have valid feature names, but StandardScaler was fitted with feature names\n",
      "  warnings.warn(\n"
     ]
    },
    {
     "name": "stdout",
     "output_type": "stream",
     "text": [
      "Body Language: neutral [0.11 0.89 0.  ]\n"
     ]
    },
    {
     "name": "stderr",
     "output_type": "stream",
     "text": [
      "D:\\Softwares\\Anaconda\\Lib\\site-packages\\sklearn\\base.py:439: UserWarning: X does not have valid feature names, but StandardScaler was fitted with feature names\n",
      "  warnings.warn(\n",
      "D:\\Softwares\\Anaconda\\Lib\\site-packages\\sklearn\\base.py:439: UserWarning: X does not have valid feature names, but StandardScaler was fitted with feature names\n",
      "  warnings.warn(\n"
     ]
    },
    {
     "name": "stdout",
     "output_type": "stream",
     "text": [
      "Body Language: neutral [0.11 0.89 0.  ]\n"
     ]
    },
    {
     "name": "stderr",
     "output_type": "stream",
     "text": [
      "D:\\Softwares\\Anaconda\\Lib\\site-packages\\sklearn\\base.py:439: UserWarning: X does not have valid feature names, but StandardScaler was fitted with feature names\n",
      "  warnings.warn(\n",
      "D:\\Softwares\\Anaconda\\Lib\\site-packages\\sklearn\\base.py:439: UserWarning: X does not have valid feature names, but StandardScaler was fitted with feature names\n",
      "  warnings.warn(\n",
      "D:\\Softwares\\Anaconda\\Lib\\site-packages\\sklearn\\base.py:439: UserWarning: X does not have valid feature names, but StandardScaler was fitted with feature names\n",
      "  warnings.warn(\n"
     ]
    },
    {
     "name": "stdout",
     "output_type": "stream",
     "text": [
      "Body Language: neutral [0.11 0.89 0.  ]\n"
     ]
    },
    {
     "name": "stderr",
     "output_type": "stream",
     "text": [
      "D:\\Softwares\\Anaconda\\Lib\\site-packages\\sklearn\\base.py:439: UserWarning: X does not have valid feature names, but StandardScaler was fitted with feature names\n",
      "  warnings.warn(\n",
      "D:\\Softwares\\Anaconda\\Lib\\site-packages\\sklearn\\base.py:439: UserWarning: X does not have valid feature names, but StandardScaler was fitted with feature names\n",
      "  warnings.warn(\n",
      "D:\\Softwares\\Anaconda\\Lib\\site-packages\\sklearn\\base.py:439: UserWarning: X does not have valid feature names, but StandardScaler was fitted with feature names\n",
      "  warnings.warn(\n"
     ]
    },
    {
     "name": "stdout",
     "output_type": "stream",
     "text": [
      "Body Language: neutral [0.11 0.89 0.  ]\n",
      "Body Language: neutral [0.11 0.89 0.  ]\n",
      "Body Language: neutral [0.11 0.89 0.  ]\n",
      "1/1 [==============================] - 0s 47ms/step\n"
     ]
    },
    {
     "name": "stderr",
     "output_type": "stream",
     "text": [
      "D:\\Softwares\\Anaconda\\Lib\\site-packages\\sklearn\\base.py:439: UserWarning: X does not have valid feature names, but StandardScaler was fitted with feature names\n",
      "  warnings.warn(\n",
      "D:\\Softwares\\Anaconda\\Lib\\site-packages\\sklearn\\base.py:439: UserWarning: X does not have valid feature names, but StandardScaler was fitted with feature names\n",
      "  warnings.warn(\n"
     ]
    },
    {
     "name": "stdout",
     "output_type": "stream",
     "text": [
      "Emotion (FER): Fear\n"
     ]
    },
    {
     "name": "stderr",
     "output_type": "stream",
     "text": [
      "D:\\Softwares\\Anaconda\\Lib\\site-packages\\sklearn\\base.py:439: UserWarning: X does not have valid feature names, but StandardScaler was fitted with feature names\n",
      "  warnings.warn(\n",
      "D:\\Softwares\\Anaconda\\Lib\\site-packages\\sklearn\\base.py:439: UserWarning: X does not have valid feature names, but StandardScaler was fitted with feature names\n",
      "  warnings.warn(\n"
     ]
    },
    {
     "name": "stdout",
     "output_type": "stream",
     "text": [
      "Body Language: neutral [0.11 0.89 0.  ]\n",
      "Error: 'NoneType' object has no attribute 'landmark'\n",
      "Error: 'NoneType' object has no attribute 'landmark'\n",
      "1/1 [==============================] - 0s 43ms/step\n",
      "Emotion (FER): Fear\n",
      "Body Language: sleepy [0. 0. 1.]\n",
      "1/1 [==============================] - 0s 41ms/step\n"
     ]
    },
    {
     "name": "stderr",
     "output_type": "stream",
     "text": [
      "D:\\Softwares\\Anaconda\\Lib\\site-packages\\sklearn\\base.py:439: UserWarning: X does not have valid feature names, but StandardScaler was fitted with feature names\n",
      "  warnings.warn(\n",
      "D:\\Softwares\\Anaconda\\Lib\\site-packages\\sklearn\\base.py:439: UserWarning: X does not have valid feature names, but StandardScaler was fitted with feature names\n",
      "  warnings.warn(\n"
     ]
    },
    {
     "name": "stdout",
     "output_type": "stream",
     "text": [
      "Emotion (FER): Fear\n",
      "Body Language: sleepy [0. 0. 1.]\n",
      "1/1 [==============================] - 0s 40ms/step\n"
     ]
    },
    {
     "name": "stderr",
     "output_type": "stream",
     "text": [
      "D:\\Softwares\\Anaconda\\Lib\\site-packages\\sklearn\\base.py:439: UserWarning: X does not have valid feature names, but StandardScaler was fitted with feature names\n",
      "  warnings.warn(\n",
      "D:\\Softwares\\Anaconda\\Lib\\site-packages\\sklearn\\base.py:439: UserWarning: X does not have valid feature names, but StandardScaler was fitted with feature names\n",
      "  warnings.warn(\n"
     ]
    },
    {
     "name": "stdout",
     "output_type": "stream",
     "text": [
      "Emotion (FER): Angry\n",
      "Body Language: sleepy [0. 0. 1.]\n",
      "1/1 [==============================] - ETA: 0s"
     ]
    },
    {
     "name": "stderr",
     "output_type": "stream",
     "text": [
      "D:\\Softwares\\Anaconda\\Lib\\site-packages\\sklearn\\base.py:439: UserWarning: X does not have valid feature names, but StandardScaler was fitted with feature names\n",
      "  warnings.warn(\n",
      "D:\\Softwares\\Anaconda\\Lib\\site-packages\\sklearn\\base.py:439: UserWarning: X does not have valid feature names, but StandardScaler was fitted with feature names\n",
      "  warnings.warn(\n"
     ]
    },
    {
     "name": "stdout",
     "output_type": "stream",
     "text": [
      "1/1 [==============================] - 0s 45ms/step\n",
      "Emotion (FER): Angry\n",
      "Body Language: sleepy [0. 0. 1.]\n",
      "1/1 [==============================] - ETA: 0s"
     ]
    },
    {
     "name": "stderr",
     "output_type": "stream",
     "text": [
      "D:\\Softwares\\Anaconda\\Lib\\site-packages\\sklearn\\base.py:439: UserWarning: X does not have valid feature names, but StandardScaler was fitted with feature names\n",
      "  warnings.warn(\n",
      "D:\\Softwares\\Anaconda\\Lib\\site-packages\\sklearn\\base.py:439: UserWarning: X does not have valid feature names, but StandardScaler was fitted with feature names\n",
      "  warnings.warn(\n"
     ]
    },
    {
     "name": "stdout",
     "output_type": "stream",
     "text": [
      "1/1 [==============================] - 0s 40ms/step\n",
      "Emotion (FER): Neutral\n",
      "Body Language: sleepy [0. 0. 1.]\n",
      "1/1 [==============================] - 0s 36ms/step\n",
      "Emotion (FER): Angry\n"
     ]
    },
    {
     "name": "stderr",
     "output_type": "stream",
     "text": [
      "D:\\Softwares\\Anaconda\\Lib\\site-packages\\sklearn\\base.py:439: UserWarning: X does not have valid feature names, but StandardScaler was fitted with feature names\n",
      "  warnings.warn(\n",
      "D:\\Softwares\\Anaconda\\Lib\\site-packages\\sklearn\\base.py:439: UserWarning: X does not have valid feature names, but StandardScaler was fitted with feature names\n",
      "  warnings.warn(\n",
      "D:\\Softwares\\Anaconda\\Lib\\site-packages\\sklearn\\base.py:439: UserWarning: X does not have valid feature names, but StandardScaler was fitted with feature names\n",
      "  warnings.warn(\n"
     ]
    },
    {
     "name": "stdout",
     "output_type": "stream",
     "text": [
      "Body Language: sleepy [0.01 0.   0.99]\n",
      "1/1 [==============================] - 0s 43ms/step\n",
      "Emotion (FER): Neutral\n"
     ]
    },
    {
     "name": "stderr",
     "output_type": "stream",
     "text": [
      "D:\\Softwares\\Anaconda\\Lib\\site-packages\\sklearn\\base.py:439: UserWarning: X does not have valid feature names, but StandardScaler was fitted with feature names\n",
      "  warnings.warn(\n"
     ]
    },
    {
     "name": "stdout",
     "output_type": "stream",
     "text": [
      "Body Language: sleepy [0.01 0.   0.99]\n",
      "1/1 [==============================] - 0s 39ms/step\n"
     ]
    },
    {
     "name": "stderr",
     "output_type": "stream",
     "text": [
      "D:\\Softwares\\Anaconda\\Lib\\site-packages\\sklearn\\base.py:439: UserWarning: X does not have valid feature names, but StandardScaler was fitted with feature names\n",
      "  warnings.warn(\n",
      "D:\\Softwares\\Anaconda\\Lib\\site-packages\\sklearn\\base.py:439: UserWarning: X does not have valid feature names, but StandardScaler was fitted with feature names\n",
      "  warnings.warn(\n"
     ]
    },
    {
     "name": "stdout",
     "output_type": "stream",
     "text": [
      "Emotion (FER): Neutral\n",
      "Body Language: sleepy [0.01 0.   0.99]\n",
      "1/1 [==============================] - 0s 32ms/step\n",
      "Emotion (FER): Neutral\n"
     ]
    },
    {
     "name": "stderr",
     "output_type": "stream",
     "text": [
      "D:\\Softwares\\Anaconda\\Lib\\site-packages\\sklearn\\base.py:439: UserWarning: X does not have valid feature names, but StandardScaler was fitted with feature names\n",
      "  warnings.warn(\n",
      "D:\\Softwares\\Anaconda\\Lib\\site-packages\\sklearn\\base.py:439: UserWarning: X does not have valid feature names, but StandardScaler was fitted with feature names\n",
      "  warnings.warn(\n",
      "D:\\Softwares\\Anaconda\\Lib\\site-packages\\sklearn\\base.py:439: UserWarning: X does not have valid feature names, but StandardScaler was fitted with feature names\n",
      "  warnings.warn(\n",
      "D:\\Softwares\\Anaconda\\Lib\\site-packages\\sklearn\\base.py:439: UserWarning: X does not have valid feature names, but StandardScaler was fitted with feature names\n",
      "  warnings.warn(\n"
     ]
    },
    {
     "name": "stdout",
     "output_type": "stream",
     "text": [
      "Body Language: sleepy [0.06 0.08 0.86]\n",
      "1/1 [==============================] - 0s 32ms/step\n",
      "Emotion (FER): Happy\n",
      "Body Language: sleepy [0.28 0.32 0.4 ]\n",
      "1/1 [==============================] - 0s 34ms/step\n"
     ]
    },
    {
     "name": "stderr",
     "output_type": "stream",
     "text": [
      "D:\\Softwares\\Anaconda\\Lib\\site-packages\\sklearn\\base.py:439: UserWarning: X does not have valid feature names, but StandardScaler was fitted with feature names\n",
      "  warnings.warn(\n",
      "D:\\Softwares\\Anaconda\\Lib\\site-packages\\sklearn\\base.py:439: UserWarning: X does not have valid feature names, but StandardScaler was fitted with feature names\n",
      "  warnings.warn(\n"
     ]
    },
    {
     "name": "stdout",
     "output_type": "stream",
     "text": [
      "Emotion (FER): Angry\n",
      "Body Language: neutral [0.33 0.4  0.27]\n",
      "1/1 [==============================] - 0s 34ms/step\n"
     ]
    },
    {
     "name": "stderr",
     "output_type": "stream",
     "text": [
      "D:\\Softwares\\Anaconda\\Lib\\site-packages\\sklearn\\base.py:439: UserWarning: X does not have valid feature names, but StandardScaler was fitted with feature names\n",
      "  warnings.warn(\n",
      "D:\\Softwares\\Anaconda\\Lib\\site-packages\\sklearn\\base.py:439: UserWarning: X does not have valid feature names, but StandardScaler was fitted with feature names\n",
      "  warnings.warn(\n",
      "D:\\Softwares\\Anaconda\\Lib\\site-packages\\sklearn\\base.py:439: UserWarning: X does not have valid feature names, but StandardScaler was fitted with feature names\n",
      "  warnings.warn(\n"
     ]
    },
    {
     "name": "stdout",
     "output_type": "stream",
     "text": [
      "Emotion (FER): Happy\n",
      "Body Language: neutral [0.13 0.87 0.  ]\n",
      "Error: 'NoneType' object has no attribute 'landmark'\n",
      "Error: 'NoneType' object has no attribute 'landmark'\n"
     ]
    },
    {
     "name": "stderr",
     "output_type": "stream",
     "text": [
      "D:\\Softwares\\Anaconda\\Lib\\site-packages\\sklearn\\base.py:439: UserWarning: X does not have valid feature names, but StandardScaler was fitted with feature names\n",
      "  warnings.warn(\n"
     ]
    },
    {
     "name": "stdout",
     "output_type": "stream",
     "text": [
      "Error: 'NoneType' object has no attribute 'landmark'\n",
      "Error: 'NoneType' object has no attribute 'landmark'\n",
      "Error: 'NoneType' object has no attribute 'landmark'\n",
      "Error: 'NoneType' object has no attribute 'landmark'\n",
      "Error: 'NoneType' object has no attribute 'landmark'\n",
      "Error: 'NoneType' object has no attribute 'landmark'\n",
      "Error: 'NoneType' object has no attribute 'landmark'\n",
      "Error: 'NoneType' object has no attribute 'landmark'\n",
      "Error: 'NoneType' object has no attribute 'landmark'\n",
      "Error: 'NoneType' object has no attribute 'landmark'\n",
      "Error: 'NoneType' object has no attribute 'landmark'\n",
      "Error: 'NoneType' object has no attribute 'landmark'\n",
      "Error: 'NoneType' object has no attribute 'landmark'\n",
      "Error: 'NoneType' object has no attribute 'landmark'\n",
      "Error: 'NoneType' object has no attribute 'landmark'\n",
      "Error: 'NoneType' object has no attribute 'landmark'\n",
      "Error: 'NoneType' object has no attribute 'landmark'\n",
      "Error: 'NoneType' object has no attribute 'landmark'\n",
      "Error: 'NoneType' object has no attribute 'landmark'\n",
      "1/1 [==============================] - 0s 44ms/step\n",
      "Emotion (FER): Fear\n",
      "Error: 'NoneType' object has no attribute 'landmark'\n",
      "1/1 [==============================] - 0s 38ms/step\n",
      "Emotion (FER): Surprise\n",
      "Body Language: neutral [0.13 0.87 0.  ]\n"
     ]
    },
    {
     "name": "stderr",
     "output_type": "stream",
     "text": [
      "D:\\Softwares\\Anaconda\\Lib\\site-packages\\sklearn\\base.py:439: UserWarning: X does not have valid feature names, but StandardScaler was fitted with feature names\n",
      "  warnings.warn(\n",
      "D:\\Softwares\\Anaconda\\Lib\\site-packages\\sklearn\\base.py:439: UserWarning: X does not have valid feature names, but StandardScaler was fitted with feature names\n",
      "  warnings.warn(\n",
      "D:\\Softwares\\Anaconda\\Lib\\site-packages\\sklearn\\base.py:439: UserWarning: X does not have valid feature names, but StandardScaler was fitted with feature names\n",
      "  warnings.warn(\n",
      "D:\\Softwares\\Anaconda\\Lib\\site-packages\\sklearn\\base.py:439: UserWarning: X does not have valid feature names, but StandardScaler was fitted with feature names\n",
      "  warnings.warn(\n"
     ]
    },
    {
     "name": "stdout",
     "output_type": "stream",
     "text": [
      "Body Language: neutral [0.12 0.88 0.  ]\n",
      "1/1 [==============================] - 0s 45ms/step\n",
      "Emotion (FER): Fear\n",
      "Body Language: neutral [0.2 0.8 0. ]\n",
      "1/1 [==============================] - 0s 48ms/step\n"
     ]
    },
    {
     "name": "stderr",
     "output_type": "stream",
     "text": [
      "D:\\Softwares\\Anaconda\\Lib\\site-packages\\sklearn\\base.py:439: UserWarning: X does not have valid feature names, but StandardScaler was fitted with feature names\n",
      "  warnings.warn(\n",
      "D:\\Softwares\\Anaconda\\Lib\\site-packages\\sklearn\\base.py:439: UserWarning: X does not have valid feature names, but StandardScaler was fitted with feature names\n",
      "  warnings.warn(\n"
     ]
    },
    {
     "name": "stdout",
     "output_type": "stream",
     "text": [
      "Emotion (FER): Neutral\n",
      "Body Language: neutral [0.43 0.57 0.  ]\n",
      "1/1 [==============================] - ETA: 0s"
     ]
    },
    {
     "name": "stderr",
     "output_type": "stream",
     "text": [
      "D:\\Softwares\\Anaconda\\Lib\\site-packages\\sklearn\\base.py:439: UserWarning: X does not have valid feature names, but StandardScaler was fitted with feature names\n",
      "  warnings.warn(\n",
      "D:\\Softwares\\Anaconda\\Lib\\site-packages\\sklearn\\base.py:439: UserWarning: X does not have valid feature names, but StandardScaler was fitted with feature names\n",
      "  warnings.warn(\n"
     ]
    },
    {
     "name": "stdout",
     "output_type": "stream",
     "text": [
      "1/1 [==============================] - 0s 58ms/step\n",
      "Emotion (FER): Neutral\n"
     ]
    },
    {
     "name": "stderr",
     "output_type": "stream",
     "text": [
      "D:\\Softwares\\Anaconda\\Lib\\site-packages\\sklearn\\base.py:439: UserWarning: X does not have valid feature names, but StandardScaler was fitted with feature names\n",
      "  warnings.warn(\n",
      "D:\\Softwares\\Anaconda\\Lib\\site-packages\\sklearn\\base.py:439: UserWarning: X does not have valid feature names, but StandardScaler was fitted with feature names\n",
      "  warnings.warn(\n"
     ]
    },
    {
     "name": "stdout",
     "output_type": "stream",
     "text": [
      "Body Language: happy [0.56 0.44 0.  ]\n",
      "1/1 [==============================] - 0s 48ms/step\n",
      "Emotion (FER): Neutral\n"
     ]
    },
    {
     "name": "stderr",
     "output_type": "stream",
     "text": [
      "D:\\Softwares\\Anaconda\\Lib\\site-packages\\sklearn\\base.py:439: UserWarning: X does not have valid feature names, but StandardScaler was fitted with feature names\n",
      "  warnings.warn(\n",
      "D:\\Softwares\\Anaconda\\Lib\\site-packages\\sklearn\\base.py:439: UserWarning: X does not have valid feature names, but StandardScaler was fitted with feature names\n",
      "  warnings.warn(\n"
     ]
    },
    {
     "name": "stdout",
     "output_type": "stream",
     "text": [
      "Body Language: neutral [0.42 0.58 0.  ]\n",
      "1/1 [==============================] - 0s 48ms/step\n",
      "Emotion (FER): Neutral\n",
      "Body Language: happy [0.6 0.4 0. ]\n",
      "1/1 [==============================] - ETA: 0s"
     ]
    },
    {
     "name": "stderr",
     "output_type": "stream",
     "text": [
      "D:\\Softwares\\Anaconda\\Lib\\site-packages\\sklearn\\base.py:439: UserWarning: X does not have valid feature names, but StandardScaler was fitted with feature names\n",
      "  warnings.warn(\n",
      "D:\\Softwares\\Anaconda\\Lib\\site-packages\\sklearn\\base.py:439: UserWarning: X does not have valid feature names, but StandardScaler was fitted with feature names\n",
      "  warnings.warn(\n"
     ]
    },
    {
     "name": "stdout",
     "output_type": "stream",
     "text": [
      "1/1 [==============================] - 0s 51ms/step\n",
      "Emotion (FER): Neutral\n",
      "Body Language: happy [0.58 0.42 0.  ]\n",
      "1/1 [==============================] - ETA: 0s"
     ]
    },
    {
     "name": "stderr",
     "output_type": "stream",
     "text": [
      "D:\\Softwares\\Anaconda\\Lib\\site-packages\\sklearn\\base.py:439: UserWarning: X does not have valid feature names, but StandardScaler was fitted with feature names\n",
      "  warnings.warn(\n",
      "D:\\Softwares\\Anaconda\\Lib\\site-packages\\sklearn\\base.py:439: UserWarning: X does not have valid feature names, but StandardScaler was fitted with feature names\n",
      "  warnings.warn(\n"
     ]
    },
    {
     "name": "stdout",
     "output_type": "stream",
     "text": [
      "1/1 [==============================] - 0s 41ms/step\n",
      "Emotion (FER): Neutral\n",
      "Body Language: happy [0.59 0.41 0.  ]\n",
      "1/1 [==============================] - 0s 40ms/step\n"
     ]
    },
    {
     "name": "stderr",
     "output_type": "stream",
     "text": [
      "D:\\Softwares\\Anaconda\\Lib\\site-packages\\sklearn\\base.py:439: UserWarning: X does not have valid feature names, but StandardScaler was fitted with feature names\n",
      "  warnings.warn(\n",
      "D:\\Softwares\\Anaconda\\Lib\\site-packages\\sklearn\\base.py:439: UserWarning: X does not have valid feature names, but StandardScaler was fitted with feature names\n",
      "  warnings.warn(\n"
     ]
    },
    {
     "name": "stdout",
     "output_type": "stream",
     "text": [
      "Emotion (FER): Neutral\n",
      "Body Language: neutral [0.47 0.53 0.  ]\n",
      "1/1 [==============================] - 0s 36ms/step\n"
     ]
    },
    {
     "name": "stderr",
     "output_type": "stream",
     "text": [
      "D:\\Softwares\\Anaconda\\Lib\\site-packages\\sklearn\\base.py:439: UserWarning: X does not have valid feature names, but StandardScaler was fitted with feature names\n",
      "  warnings.warn(\n",
      "D:\\Softwares\\Anaconda\\Lib\\site-packages\\sklearn\\base.py:439: UserWarning: X does not have valid feature names, but StandardScaler was fitted with feature names\n",
      "  warnings.warn(\n"
     ]
    },
    {
     "name": "stdout",
     "output_type": "stream",
     "text": [
      "Emotion (FER): Angry\n",
      "Body Language: neutral [0.28 0.72 0.  ]\n",
      "1/1 [==============================] - 0s 34ms/step\n"
     ]
    },
    {
     "name": "stderr",
     "output_type": "stream",
     "text": [
      "D:\\Softwares\\Anaconda\\Lib\\site-packages\\sklearn\\base.py:439: UserWarning: X does not have valid feature names, but StandardScaler was fitted with feature names\n",
      "  warnings.warn(\n",
      "D:\\Softwares\\Anaconda\\Lib\\site-packages\\sklearn\\base.py:439: UserWarning: X does not have valid feature names, but StandardScaler was fitted with feature names\n",
      "  warnings.warn(\n"
     ]
    },
    {
     "name": "stdout",
     "output_type": "stream",
     "text": [
      "Emotion (FER): Fear\n",
      "Body Language: neutral [0.16 0.84 0.  ]\n",
      "1/1 [==============================] - 0s 31ms/step\n"
     ]
    },
    {
     "name": "stderr",
     "output_type": "stream",
     "text": [
      "D:\\Softwares\\Anaconda\\Lib\\site-packages\\sklearn\\base.py:439: UserWarning: X does not have valid feature names, but StandardScaler was fitted with feature names\n",
      "  warnings.warn(\n",
      "D:\\Softwares\\Anaconda\\Lib\\site-packages\\sklearn\\base.py:439: UserWarning: X does not have valid feature names, but StandardScaler was fitted with feature names\n",
      "  warnings.warn(\n"
     ]
    },
    {
     "name": "stdout",
     "output_type": "stream",
     "text": [
      "Emotion (FER): Fear\n",
      "Error: 'NoneType' object has no attribute 'landmark'\n",
      "Error: 'NoneType' object has no attribute 'landmark'\n",
      "Error: 'NoneType' object has no attribute 'landmark'\n",
      "Error: 'NoneType' object has no attribute 'landmark'\n",
      "Error: 'NoneType' object has no attribute 'landmark'\n",
      "Error: 'NoneType' object has no attribute 'landmark'\n",
      "Error: 'NoneType' object has no attribute 'landmark'\n",
      "1/1 [==============================] - 0s 32ms/step\n",
      "Emotion (FER): Angry\n",
      "1/1 [==============================] - 0s 32ms/step\n",
      "Emotion (FER): Neutral\n",
      "Error: 'NoneType' object has no attribute 'landmark'\n",
      "Error: 'NoneType' object has no attribute 'landmark'\n",
      "Error: 'NoneType' object has no attribute 'landmark'\n",
      "Error: 'NoneType' object has no attribute 'landmark'\n",
      "Error: 'NoneType' object has no attribute 'landmark'\n",
      "Error: 'NoneType' object has no attribute 'landmark'\n",
      "Error: 'NoneType' object has no attribute 'landmark'\n",
      "Error: 'NoneType' object has no attribute 'landmark'\n",
      "Error: 'NoneType' object has no attribute 'landmark'\n",
      "Error: 'NoneType' object has no attribute 'landmark'\n",
      "Error: 'NoneType' object has no attribute 'landmark'\n",
      "Error: 'NoneType' object has no attribute 'landmark'\n",
      "Error: 'NoneType' object has no attribute 'landmark'\n",
      "Error: 'NoneType' object has no attribute 'landmark'\n",
      "Error: 'NoneType' object has no attribute 'landmark'\n",
      "Error: 'NoneType' object has no attribute 'landmark'\n",
      "Error: 'NoneType' object has no attribute 'landmark'\n",
      "Error: 'NoneType' object has no attribute 'landmark'\n",
      "Error: 'NoneType' object has no attribute 'landmark'\n",
      "Error: 'NoneType' object has no attribute 'landmark'\n",
      "Error: 'NoneType' object has no attribute 'landmark'\n",
      "Error: 'NoneType' object has no attribute 'landmark'\n",
      "Error: 'NoneType' object has no attribute 'landmark'\n",
      "Error: 'NoneType' object has no attribute 'landmark'\n",
      "Error: 'NoneType' object has no attribute 'landmark'\n",
      "Error: 'NoneType' object has no attribute 'landmark'\n",
      "Error: 'NoneType' object has no attribute 'landmark'\n",
      "Error: 'NoneType' object has no attribute 'landmark'\n",
      "Error: 'NoneType' object has no attribute 'landmark'\n",
      "Error: 'NoneType' object has no attribute 'landmark'\n",
      "Error: 'NoneType' object has no attribute 'landmark'\n",
      "Error: 'NoneType' object has no attribute 'landmark'\n",
      "Error: 'NoneType' object has no attribute 'landmark'\n",
      "Error: 'NoneType' object has no attribute 'landmark'\n",
      "Error: 'NoneType' object has no attribute 'landmark'\n",
      "Error: 'NoneType' object has no attribute 'landmark'\n",
      "Error: 'NoneType' object has no attribute 'landmark'\n",
      "Error: 'NoneType' object has no attribute 'landmark'\n",
      "Error: 'NoneType' object has no attribute 'landmark'\n",
      "Error: 'NoneType' object has no attribute 'landmark'\n",
      "Error: 'NoneType' object has no attribute 'landmark'\n",
      "Error: 'NoneType' object has no attribute 'landmark'\n",
      "Error: 'NoneType' object has no attribute 'landmark'\n",
      "Error: 'NoneType' object has no attribute 'landmark'\n",
      "Error: 'NoneType' object has no attribute 'landmark'\n",
      "Error: 'NoneType' object has no attribute 'landmark'\n",
      "Error: 'NoneType' object has no attribute 'landmark'\n",
      "Error: 'NoneType' object has no attribute 'landmark'\n",
      "Error: 'NoneType' object has no attribute 'landmark'\n",
      "Error: 'NoneType' object has no attribute 'landmark'\n",
      "Error: 'NoneType' object has no attribute 'landmark'\n",
      "Error: 'NoneType' object has no attribute 'landmark'\n",
      "Error: 'NoneType' object has no attribute 'landmark'\n",
      "Error: 'NoneType' object has no attribute 'landmark'\n",
      "Error: 'NoneType' object has no attribute 'landmark'\n",
      "Error: 'NoneType' object has no attribute 'landmark'\n",
      "Error: 'NoneType' object has no attribute 'landmark'\n",
      "Error: 'NoneType' object has no attribute 'landmark'\n",
      "Error: 'NoneType' object has no attribute 'landmark'\n",
      "Error: 'NoneType' object has no attribute 'landmark'\n",
      "Error: 'NoneType' object has no attribute 'landmark'\n",
      "Error: 'NoneType' object has no attribute 'landmark'\n",
      "Error: 'NoneType' object has no attribute 'landmark'\n",
      "Error: 'NoneType' object has no attribute 'landmark'\n",
      "Error: 'NoneType' object has no attribute 'landmark'\n",
      "Error: 'NoneType' object has no attribute 'landmark'\n",
      "Error: 'NoneType' object has no attribute 'landmark'\n",
      "Error: 'NoneType' object has no attribute 'landmark'\n"
     ]
    },
    {
     "name": "stderr",
     "output_type": "stream",
     "text": [
      "D:\\Softwares\\Anaconda\\Lib\\site-packages\\sklearn\\base.py:439: UserWarning: X does not have valid feature names, but StandardScaler was fitted with feature names\n",
      "  warnings.warn(\n",
      "D:\\Softwares\\Anaconda\\Lib\\site-packages\\sklearn\\base.py:439: UserWarning: X does not have valid feature names, but StandardScaler was fitted with feature names\n",
      "  warnings.warn(\n"
     ]
    },
    {
     "name": "stdout",
     "output_type": "stream",
     "text": [
      "Body Language: neutral [0.08 0.92 0.  ]\n",
      "Error: 'NoneType' object has no attribute 'landmark'\n",
      "Error: 'NoneType' object has no attribute 'landmark'\n",
      "1/1 [==============================] - 0s 71ms/step\n",
      "Emotion (FER): Happy\n",
      "Error: 'NoneType' object has no attribute 'landmark'\n",
      "Error: 'NoneType' object has no attribute 'landmark'\n"
     ]
    },
    {
     "name": "stderr",
     "output_type": "stream",
     "text": [
      "D:\\Softwares\\Anaconda\\Lib\\site-packages\\sklearn\\base.py:439: UserWarning: X does not have valid feature names, but StandardScaler was fitted with feature names\n",
      "  warnings.warn(\n",
      "D:\\Softwares\\Anaconda\\Lib\\site-packages\\sklearn\\base.py:439: UserWarning: X does not have valid feature names, but StandardScaler was fitted with feature names\n",
      "  warnings.warn(\n"
     ]
    },
    {
     "name": "stdout",
     "output_type": "stream",
     "text": [
      "Body Language: neutral [0.07 0.92 0.01]\n",
      "Body Language: neutral [0.07 0.92 0.01]\n",
      "1/1 [==============================] - 0s 47ms/step\n"
     ]
    },
    {
     "name": "stderr",
     "output_type": "stream",
     "text": [
      "D:\\Softwares\\Anaconda\\Lib\\site-packages\\sklearn\\base.py:439: UserWarning: X does not have valid feature names, but StandardScaler was fitted with feature names\n",
      "  warnings.warn(\n",
      "D:\\Softwares\\Anaconda\\Lib\\site-packages\\sklearn\\base.py:439: UserWarning: X does not have valid feature names, but StandardScaler was fitted with feature names\n",
      "  warnings.warn(\n"
     ]
    },
    {
     "name": "stdout",
     "output_type": "stream",
     "text": [
      "Emotion (FER): Happy\n",
      "Error: 'NoneType' object has no attribute 'landmark'\n",
      "1/1 [==============================] - 0s 43ms/step\n",
      "Emotion (FER): Angry\n",
      "Body Language: neutral [0.07 0.93 0.  ]\n",
      "1/1 [==============================] - 0s 42ms/step\n"
     ]
    },
    {
     "name": "stderr",
     "output_type": "stream",
     "text": [
      "D:\\Softwares\\Anaconda\\Lib\\site-packages\\sklearn\\base.py:439: UserWarning: X does not have valid feature names, but StandardScaler was fitted with feature names\n",
      "  warnings.warn(\n",
      "D:\\Softwares\\Anaconda\\Lib\\site-packages\\sklearn\\base.py:439: UserWarning: X does not have valid feature names, but StandardScaler was fitted with feature names\n",
      "  warnings.warn(\n"
     ]
    },
    {
     "name": "stdout",
     "output_type": "stream",
     "text": [
      "Emotion (FER): Angry\n",
      "Body Language: neutral [0.07 0.93 0.  ]\n"
     ]
    },
    {
     "name": "stderr",
     "output_type": "stream",
     "text": [
      "D:\\Softwares\\Anaconda\\Lib\\site-packages\\sklearn\\base.py:439: UserWarning: X does not have valid feature names, but StandardScaler was fitted with feature names\n",
      "  warnings.warn(\n",
      "D:\\Softwares\\Anaconda\\Lib\\site-packages\\sklearn\\base.py:439: UserWarning: X does not have valid feature names, but StandardScaler was fitted with feature names\n",
      "  warnings.warn(\n"
     ]
    },
    {
     "name": "stdout",
     "output_type": "stream",
     "text": [
      "1/1 [==============================] - 0s 31ms/step\n",
      "Emotion (FER): Angry\n",
      "Body Language: neutral [0.07 0.93 0.  ]\n",
      "1/1 [==============================] - 0s 33ms/step\n"
     ]
    },
    {
     "name": "stderr",
     "output_type": "stream",
     "text": [
      "D:\\Softwares\\Anaconda\\Lib\\site-packages\\sklearn\\base.py:439: UserWarning: X does not have valid feature names, but StandardScaler was fitted with feature names\n",
      "  warnings.warn(\n",
      "D:\\Softwares\\Anaconda\\Lib\\site-packages\\sklearn\\base.py:439: UserWarning: X does not have valid feature names, but StandardScaler was fitted with feature names\n",
      "  warnings.warn(\n",
      "D:\\Softwares\\Anaconda\\Lib\\site-packages\\sklearn\\base.py:439: UserWarning: X does not have valid feature names, but StandardScaler was fitted with feature names\n",
      "  warnings.warn(\n",
      "D:\\Softwares\\Anaconda\\Lib\\site-packages\\sklearn\\base.py:439: UserWarning: X does not have valid feature names, but StandardScaler was fitted with feature names\n",
      "  warnings.warn(\n"
     ]
    },
    {
     "name": "stdout",
     "output_type": "stream",
     "text": [
      "Emotion (FER): Angry\n",
      "Body Language: neutral [0.06 0.94 0.  ]\n",
      "1/1 [==============================] - 0s 33ms/step\n",
      "Emotion (FER): Angry\n",
      "Body Language: neutral [0.07 0.93 0.  ]\n",
      "1/1 [==============================] - 0s 35ms/step\n"
     ]
    },
    {
     "name": "stderr",
     "output_type": "stream",
     "text": [
      "D:\\Softwares\\Anaconda\\Lib\\site-packages\\sklearn\\base.py:439: UserWarning: X does not have valid feature names, but StandardScaler was fitted with feature names\n",
      "  warnings.warn(\n",
      "D:\\Softwares\\Anaconda\\Lib\\site-packages\\sklearn\\base.py:439: UserWarning: X does not have valid feature names, but StandardScaler was fitted with feature names\n",
      "  warnings.warn(\n",
      "D:\\Softwares\\Anaconda\\Lib\\site-packages\\sklearn\\base.py:439: UserWarning: X does not have valid feature names, but StandardScaler was fitted with feature names\n",
      "  warnings.warn(\n"
     ]
    },
    {
     "name": "stdout",
     "output_type": "stream",
     "text": [
      "Emotion (FER): Angry\n",
      "Body Language: neutral [0.07 0.93 0.  ]\n",
      "1/1 [==============================] - 0s 39ms/step\n"
     ]
    },
    {
     "name": "stderr",
     "output_type": "stream",
     "text": [
      "D:\\Softwares\\Anaconda\\Lib\\site-packages\\sklearn\\base.py:439: UserWarning: X does not have valid feature names, but StandardScaler was fitted with feature names\n",
      "  warnings.warn(\n",
      "D:\\Softwares\\Anaconda\\Lib\\site-packages\\sklearn\\base.py:439: UserWarning: X does not have valid feature names, but StandardScaler was fitted with feature names\n",
      "  warnings.warn(\n",
      "D:\\Softwares\\Anaconda\\Lib\\site-packages\\sklearn\\base.py:439: UserWarning: X does not have valid feature names, but StandardScaler was fitted with feature names\n",
      "  warnings.warn(\n"
     ]
    },
    {
     "name": "stdout",
     "output_type": "stream",
     "text": [
      "Emotion (FER): Angry\n",
      "Body Language: neutral [0.07 0.93 0.  ]\n",
      "1/1 [==============================] - 0s 33ms/step\n",
      "Emotion (FER): Angry\n",
      "Error: 'NoneType' object has no attribute 'landmark'\n",
      "Body Language: neutral [0.07 0.93 0.  ]\n",
      "1/1 [==============================] - 0s 32ms/step\n"
     ]
    },
    {
     "name": "stderr",
     "output_type": "stream",
     "text": [
      "D:\\Softwares\\Anaconda\\Lib\\site-packages\\sklearn\\base.py:439: UserWarning: X does not have valid feature names, but StandardScaler was fitted with feature names\n",
      "  warnings.warn(\n",
      "D:\\Softwares\\Anaconda\\Lib\\site-packages\\sklearn\\base.py:439: UserWarning: X does not have valid feature names, but StandardScaler was fitted with feature names\n",
      "  warnings.warn(\n",
      "D:\\Softwares\\Anaconda\\Lib\\site-packages\\sklearn\\base.py:439: UserWarning: X does not have valid feature names, but StandardScaler was fitted with feature names\n",
      "  warnings.warn(\n"
     ]
    },
    {
     "name": "stdout",
     "output_type": "stream",
     "text": [
      "Emotion (FER): Angry\n",
      "Body Language: neutral [0.07 0.93 0.  ]\n"
     ]
    },
    {
     "name": "stderr",
     "output_type": "stream",
     "text": [
      "D:\\Softwares\\Anaconda\\Lib\\site-packages\\sklearn\\base.py:439: UserWarning: X does not have valid feature names, but StandardScaler was fitted with feature names\n",
      "  warnings.warn(\n",
      "D:\\Softwares\\Anaconda\\Lib\\site-packages\\sklearn\\base.py:439: UserWarning: X does not have valid feature names, but StandardScaler was fitted with feature names\n",
      "  warnings.warn(\n",
      "D:\\Softwares\\Anaconda\\Lib\\site-packages\\sklearn\\base.py:439: UserWarning: X does not have valid feature names, but StandardScaler was fitted with feature names\n",
      "  warnings.warn(\n"
     ]
    },
    {
     "name": "stdout",
     "output_type": "stream",
     "text": [
      "Body Language: neutral [0.07 0.93 0.  ]\n",
      "Body Language: neutral [0.07 0.93 0.  ]\n",
      "1/1 [==============================] - 0s 31ms/step\n"
     ]
    },
    {
     "name": "stderr",
     "output_type": "stream",
     "text": [
      "D:\\Softwares\\Anaconda\\Lib\\site-packages\\sklearn\\base.py:439: UserWarning: X does not have valid feature names, but StandardScaler was fitted with feature names\n",
      "  warnings.warn(\n",
      "D:\\Softwares\\Anaconda\\Lib\\site-packages\\sklearn\\base.py:439: UserWarning: X does not have valid feature names, but StandardScaler was fitted with feature names\n",
      "  warnings.warn(\n",
      "D:\\Softwares\\Anaconda\\Lib\\site-packages\\sklearn\\base.py:439: UserWarning: X does not have valid feature names, but StandardScaler was fitted with feature names\n",
      "  warnings.warn(\n"
     ]
    },
    {
     "name": "stdout",
     "output_type": "stream",
     "text": [
      "Emotion (FER): Angry\n",
      "Body Language: neutral [0.07 0.93 0.  ]\n"
     ]
    },
    {
     "name": "stderr",
     "output_type": "stream",
     "text": [
      "D:\\Softwares\\Anaconda\\Lib\\site-packages\\sklearn\\base.py:439: UserWarning: X does not have valid feature names, but StandardScaler was fitted with feature names\n",
      "  warnings.warn(\n",
      "D:\\Softwares\\Anaconda\\Lib\\site-packages\\sklearn\\base.py:439: UserWarning: X does not have valid feature names, but StandardScaler was fitted with feature names\n",
      "  warnings.warn(\n",
      "D:\\Softwares\\Anaconda\\Lib\\site-packages\\sklearn\\base.py:439: UserWarning: X does not have valid feature names, but StandardScaler was fitted with feature names\n",
      "  warnings.warn(\n"
     ]
    },
    {
     "name": "stdout",
     "output_type": "stream",
     "text": [
      "Body Language: neutral [0.07 0.93 0.  ]\n",
      "1/1 [==============================] - 0s 33ms/step\n",
      "Emotion (FER): Angry\n",
      "Body Language: neutral [0.07 0.93 0.  ]\n",
      "1/1 [==============================] - 0s 32ms/step\n"
     ]
    },
    {
     "name": "stderr",
     "output_type": "stream",
     "text": [
      "D:\\Softwares\\Anaconda\\Lib\\site-packages\\sklearn\\base.py:439: UserWarning: X does not have valid feature names, but StandardScaler was fitted with feature names\n",
      "  warnings.warn(\n",
      "D:\\Softwares\\Anaconda\\Lib\\site-packages\\sklearn\\base.py:439: UserWarning: X does not have valid feature names, but StandardScaler was fitted with feature names\n",
      "  warnings.warn(\n"
     ]
    },
    {
     "name": "stdout",
     "output_type": "stream",
     "text": [
      "Emotion (FER): Angry\n",
      "Body Language: neutral [0.06 0.94 0.  ]\n",
      "1/1 [==============================] - 0s 32ms/step\n",
      "Emotion (FER): Angry\n"
     ]
    },
    {
     "name": "stderr",
     "output_type": "stream",
     "text": [
      "D:\\Softwares\\Anaconda\\Lib\\site-packages\\sklearn\\base.py:439: UserWarning: X does not have valid feature names, but StandardScaler was fitted with feature names\n",
      "  warnings.warn(\n",
      "D:\\Softwares\\Anaconda\\Lib\\site-packages\\sklearn\\base.py:439: UserWarning: X does not have valid feature names, but StandardScaler was fitted with feature names\n",
      "  warnings.warn(\n",
      "D:\\Softwares\\Anaconda\\Lib\\site-packages\\sklearn\\base.py:439: UserWarning: X does not have valid feature names, but StandardScaler was fitted with feature names\n",
      "  warnings.warn(\n",
      "D:\\Softwares\\Anaconda\\Lib\\site-packages\\sklearn\\base.py:439: UserWarning: X does not have valid feature names, but StandardScaler was fitted with feature names\n",
      "  warnings.warn(\n"
     ]
    },
    {
     "name": "stdout",
     "output_type": "stream",
     "text": [
      "Body Language: neutral [0.07 0.93 0.  ]\n",
      "1/1 [==============================] - 0s 34ms/step\n",
      "Emotion (FER): Angry\n",
      "Body Language: neutral [0.07 0.93 0.  ]\n",
      "1/1 [==============================] - 0s 31ms/step\n"
     ]
    },
    {
     "name": "stderr",
     "output_type": "stream",
     "text": [
      "D:\\Softwares\\Anaconda\\Lib\\site-packages\\sklearn\\base.py:439: UserWarning: X does not have valid feature names, but StandardScaler was fitted with feature names\n",
      "  warnings.warn(\n",
      "D:\\Softwares\\Anaconda\\Lib\\site-packages\\sklearn\\base.py:439: UserWarning: X does not have valid feature names, but StandardScaler was fitted with feature names\n",
      "  warnings.warn(\n"
     ]
    },
    {
     "name": "stdout",
     "output_type": "stream",
     "text": [
      "Emotion (FER): Happy\n",
      "1/1 [==============================] - 0s 33ms/step\n",
      "Emotion (FER): Angry\n",
      "Body Language: neutral [0.07 0.93 0.  ]\n",
      "1/1 [==============================] - 0s 31ms/step\n"
     ]
    },
    {
     "name": "stderr",
     "output_type": "stream",
     "text": [
      "D:\\Softwares\\Anaconda\\Lib\\site-packages\\sklearn\\base.py:439: UserWarning: X does not have valid feature names, but StandardScaler was fitted with feature names\n",
      "  warnings.warn(\n",
      "D:\\Softwares\\Anaconda\\Lib\\site-packages\\sklearn\\base.py:439: UserWarning: X does not have valid feature names, but StandardScaler was fitted with feature names\n",
      "  warnings.warn(\n",
      "D:\\Softwares\\Anaconda\\Lib\\site-packages\\sklearn\\base.py:439: UserWarning: X does not have valid feature names, but StandardScaler was fitted with feature names\n",
      "  warnings.warn(\n"
     ]
    },
    {
     "name": "stdout",
     "output_type": "stream",
     "text": [
      "Emotion (FER): Angry\n",
      "Body Language: neutral [0.07 0.93 0.  ]\n",
      "1/1 [==============================] - 0s 31ms/step\n",
      "Emotion (FER): Angry\n",
      "1/1 [==============================] - 0s 32ms/step\n"
     ]
    },
    {
     "name": "stderr",
     "output_type": "stream",
     "text": [
      "D:\\Softwares\\Anaconda\\Lib\\site-packages\\sklearn\\base.py:439: UserWarning: X does not have valid feature names, but StandardScaler was fitted with feature names\n",
      "  warnings.warn(\n"
     ]
    },
    {
     "name": "stdout",
     "output_type": "stream",
     "text": [
      "Emotion (FER): Surprise\n",
      "Body Language: neutral [0.07 0.93 0.  ]\n",
      "1/1 [==============================] - 0s 35ms/step\n",
      "Emotion (FER): Angry\n",
      "1/1 [==============================] - ETA: 0s"
     ]
    },
    {
     "name": "stderr",
     "output_type": "stream",
     "text": [
      "D:\\Softwares\\Anaconda\\Lib\\site-packages\\sklearn\\base.py:439: UserWarning: X does not have valid feature names, but StandardScaler was fitted with feature names\n",
      "  warnings.warn(\n",
      "D:\\Softwares\\Anaconda\\Lib\\site-packages\\sklearn\\base.py:439: UserWarning: X does not have valid feature names, but StandardScaler was fitted with feature names\n",
      "  warnings.warn(\n"
     ]
    },
    {
     "name": "stdout",
     "output_type": "stream",
     "text": [
      "1/1 [==============================] - 0s 33ms/step\n",
      "Emotion (FER): Neutral\n",
      "Body Language: neutral [0.07 0.93 0.  ]\n",
      "1/1 [==============================] - 0s 30ms/step\n",
      "Emotion (FER): Neutral\n",
      "1/1 [==============================] - ETA: 0s"
     ]
    },
    {
     "name": "stderr",
     "output_type": "stream",
     "text": [
      "D:\\Softwares\\Anaconda\\Lib\\site-packages\\sklearn\\base.py:439: UserWarning: X does not have valid feature names, but StandardScaler was fitted with feature names\n",
      "  warnings.warn(\n",
      "D:\\Softwares\\Anaconda\\Lib\\site-packages\\sklearn\\base.py:439: UserWarning: X does not have valid feature names, but StandardScaler was fitted with feature names\n",
      "  warnings.warn(\n"
     ]
    },
    {
     "name": "stdout",
     "output_type": "stream",
     "text": [
      "1/1 [==============================] - 0s 33ms/step\n",
      "Emotion (FER): Angry\n",
      "Body Language: neutral [0.07 0.93 0.  ]\n",
      "1/1 [==============================] - 0s 33ms/step\n"
     ]
    },
    {
     "name": "stderr",
     "output_type": "stream",
     "text": [
      "D:\\Softwares\\Anaconda\\Lib\\site-packages\\sklearn\\base.py:439: UserWarning: X does not have valid feature names, but StandardScaler was fitted with feature names\n",
      "  warnings.warn(\n",
      "D:\\Softwares\\Anaconda\\Lib\\site-packages\\sklearn\\base.py:439: UserWarning: X does not have valid feature names, but StandardScaler was fitted with feature names\n",
      "  warnings.warn(\n"
     ]
    },
    {
     "name": "stdout",
     "output_type": "stream",
     "text": [
      "Emotion (FER): Angry\n",
      "1/1 [==============================] - 0s 32ms/step\n",
      "Emotion (FER): Surprise\n",
      "Body Language: neutral [0.07 0.93 0.  ]\n",
      "1/1 [==============================] - 0s 31ms/step\n"
     ]
    },
    {
     "name": "stderr",
     "output_type": "stream",
     "text": [
      "D:\\Softwares\\Anaconda\\Lib\\site-packages\\sklearn\\base.py:439: UserWarning: X does not have valid feature names, but StandardScaler was fitted with feature names\n",
      "  warnings.warn(\n",
      "D:\\Softwares\\Anaconda\\Lib\\site-packages\\sklearn\\base.py:439: UserWarning: X does not have valid feature names, but StandardScaler was fitted with feature names\n",
      "  warnings.warn(\n"
     ]
    },
    {
     "name": "stdout",
     "output_type": "stream",
     "text": [
      "Emotion (FER): Angry\n",
      "Body Language: neutral [0.07 0.93 0.  ]\n",
      "1/1 [==============================] - 0s 31ms/step\n",
      "Emotion (FER): Angry\n",
      "1/1 [==============================] - ETA: 0s"
     ]
    },
    {
     "name": "stderr",
     "output_type": "stream",
     "text": [
      "D:\\Softwares\\Anaconda\\Lib\\site-packages\\sklearn\\base.py:439: UserWarning: X does not have valid feature names, but StandardScaler was fitted with feature names\n",
      "  warnings.warn(\n",
      "D:\\Softwares\\Anaconda\\Lib\\site-packages\\sklearn\\base.py:439: UserWarning: X does not have valid feature names, but StandardScaler was fitted with feature names\n",
      "  warnings.warn(\n"
     ]
    },
    {
     "name": "stdout",
     "output_type": "stream",
     "text": [
      "1/1 [==============================] - 0s 31ms/step\n",
      "Emotion (FER): Neutral\n",
      "Body Language: neutral [0.07 0.93 0.  ]\n",
      "1/1 [==============================] - 0s 31ms/step\n"
     ]
    },
    {
     "name": "stderr",
     "output_type": "stream",
     "text": [
      "D:\\Softwares\\Anaconda\\Lib\\site-packages\\sklearn\\base.py:439: UserWarning: X does not have valid feature names, but StandardScaler was fitted with feature names\n",
      "  warnings.warn(\n",
      "D:\\Softwares\\Anaconda\\Lib\\site-packages\\sklearn\\base.py:439: UserWarning: X does not have valid feature names, but StandardScaler was fitted with feature names\n",
      "  warnings.warn(\n"
     ]
    },
    {
     "name": "stdout",
     "output_type": "stream",
     "text": [
      "Emotion (FER): Surprise\n",
      "1/1 [==============================] - 0s 31ms/step\n",
      "Emotion (FER): Angry\n",
      "Body Language: neutral [0.07 0.93 0.  ]\n",
      "1/1 [==============================] - 0s 33ms/step\n"
     ]
    },
    {
     "name": "stderr",
     "output_type": "stream",
     "text": [
      "D:\\Softwares\\Anaconda\\Lib\\site-packages\\sklearn\\base.py:439: UserWarning: X does not have valid feature names, but StandardScaler was fitted with feature names\n",
      "  warnings.warn(\n",
      "D:\\Softwares\\Anaconda\\Lib\\site-packages\\sklearn\\base.py:439: UserWarning: X does not have valid feature names, but StandardScaler was fitted with feature names\n",
      "  warnings.warn(\n",
      "D:\\Softwares\\Anaconda\\Lib\\site-packages\\sklearn\\base.py:439: UserWarning: X does not have valid feature names, but StandardScaler was fitted with feature names\n",
      "  warnings.warn(\n",
      "D:\\Softwares\\Anaconda\\Lib\\site-packages\\sklearn\\base.py:439: UserWarning: X does not have valid feature names, but StandardScaler was fitted with feature names\n",
      "  warnings.warn(\n"
     ]
    },
    {
     "name": "stdout",
     "output_type": "stream",
     "text": [
      "Emotion (FER): Angry\n",
      "Body Language: neutral [0.06 0.94 0.  ]\n",
      "1/1 [==============================] - 0s 32ms/step\n",
      "Emotion (FER): Angry\n",
      "Body Language: neutral [0.05 0.95 0.  ]\n",
      "1/1 [==============================] - 0s 33ms/step\n"
     ]
    },
    {
     "name": "stderr",
     "output_type": "stream",
     "text": [
      "D:\\Softwares\\Anaconda\\Lib\\site-packages\\sklearn\\base.py:439: UserWarning: X does not have valid feature names, but StandardScaler was fitted with feature names\n",
      "  warnings.warn(\n",
      "D:\\Softwares\\Anaconda\\Lib\\site-packages\\sklearn\\base.py:439: UserWarning: X does not have valid feature names, but StandardScaler was fitted with feature names\n",
      "  warnings.warn(\n",
      "D:\\Softwares\\Anaconda\\Lib\\site-packages\\sklearn\\base.py:439: UserWarning: X does not have valid feature names, but StandardScaler was fitted with feature names\n",
      "  warnings.warn(\n",
      "D:\\Softwares\\Anaconda\\Lib\\site-packages\\sklearn\\base.py:439: UserWarning: X does not have valid feature names, but StandardScaler was fitted with feature names\n",
      "  warnings.warn(\n"
     ]
    },
    {
     "name": "stdout",
     "output_type": "stream",
     "text": [
      "Emotion (FER): Angry\n",
      "Body Language: neutral [0.06 0.94 0.  ]\n",
      "1/1 [==============================] - 0s 31ms/step\n",
      "Emotion (FER): Angry\n",
      "Body Language: neutral [0.07 0.93 0.  ]\n"
     ]
    },
    {
     "name": "stderr",
     "output_type": "stream",
     "text": [
      "D:\\Softwares\\Anaconda\\Lib\\site-packages\\sklearn\\base.py:439: UserWarning: X does not have valid feature names, but StandardScaler was fitted with feature names\n",
      "  warnings.warn(\n",
      "D:\\Softwares\\Anaconda\\Lib\\site-packages\\sklearn\\base.py:439: UserWarning: X does not have valid feature names, but StandardScaler was fitted with feature names\n",
      "  warnings.warn(\n"
     ]
    },
    {
     "name": "stdout",
     "output_type": "stream",
     "text": [
      "Error: 'NoneType' object has no attribute 'landmark'\n",
      "Error: 'NoneType' object has no attribute 'landmark'\n",
      "Error: 'NoneType' object has no attribute 'landmark'\n",
      "1/1 [==============================] - 0s 33ms/step\n",
      "Emotion (FER): Angry\n",
      "Body Language: neutral [0.04 0.95 0.01]\n",
      "1/1 [==============================] - 0s 37ms/step\n"
     ]
    },
    {
     "name": "stderr",
     "output_type": "stream",
     "text": [
      "D:\\Softwares\\Anaconda\\Lib\\site-packages\\sklearn\\base.py:439: UserWarning: X does not have valid feature names, but StandardScaler was fitted with feature names\n",
      "  warnings.warn(\n",
      "D:\\Softwares\\Anaconda\\Lib\\site-packages\\sklearn\\base.py:439: UserWarning: X does not have valid feature names, but StandardScaler was fitted with feature names\n",
      "  warnings.warn(\n"
     ]
    },
    {
     "name": "stdout",
     "output_type": "stream",
     "text": [
      "Emotion (FER): Angry\n",
      "Body Language: neutral [0.04 0.95 0.01]\n",
      "1/1 [==============================] - 0s 31ms/step\n"
     ]
    },
    {
     "name": "stderr",
     "output_type": "stream",
     "text": [
      "D:\\Softwares\\Anaconda\\Lib\\site-packages\\sklearn\\base.py:439: UserWarning: X does not have valid feature names, but StandardScaler was fitted with feature names\n",
      "  warnings.warn(\n",
      "D:\\Softwares\\Anaconda\\Lib\\site-packages\\sklearn\\base.py:439: UserWarning: X does not have valid feature names, but StandardScaler was fitted with feature names\n",
      "  warnings.warn(\n"
     ]
    },
    {
     "name": "stdout",
     "output_type": "stream",
     "text": [
      "Emotion (FER): Angry\n",
      "Body Language: neutral [0.04 0.95 0.01]\n",
      "1/1 [==============================] - 0s 34ms/step\n"
     ]
    },
    {
     "name": "stderr",
     "output_type": "stream",
     "text": [
      "D:\\Softwares\\Anaconda\\Lib\\site-packages\\sklearn\\base.py:439: UserWarning: X does not have valid feature names, but StandardScaler was fitted with feature names\n",
      "  warnings.warn(\n",
      "D:\\Softwares\\Anaconda\\Lib\\site-packages\\sklearn\\base.py:439: UserWarning: X does not have valid feature names, but StandardScaler was fitted with feature names\n",
      "  warnings.warn(\n"
     ]
    },
    {
     "name": "stdout",
     "output_type": "stream",
     "text": [
      "Emotion (FER): Happy\n",
      "1/1 [==============================] - 0s 32ms/step\n",
      "Emotion (FER): Angry\n",
      "Error: 'NoneType' object has no attribute 'landmark'\n",
      "1/1 [==============================] - 0s 34ms/step\n",
      "Emotion (FER): Angry\n",
      "Body Language: neutral [0.04 0.95 0.01]\n",
      "1/1 [==============================] - 0s 32ms/step\n"
     ]
    },
    {
     "name": "stderr",
     "output_type": "stream",
     "text": [
      "D:\\Softwares\\Anaconda\\Lib\\site-packages\\sklearn\\base.py:439: UserWarning: X does not have valid feature names, but StandardScaler was fitted with feature names\n",
      "  warnings.warn(\n",
      "D:\\Softwares\\Anaconda\\Lib\\site-packages\\sklearn\\base.py:439: UserWarning: X does not have valid feature names, but StandardScaler was fitted with feature names\n",
      "  warnings.warn(\n",
      "D:\\Softwares\\Anaconda\\Lib\\site-packages\\sklearn\\base.py:439: UserWarning: X does not have valid feature names, but StandardScaler was fitted with feature names\n",
      "  warnings.warn(\n"
     ]
    },
    {
     "name": "stdout",
     "output_type": "stream",
     "text": [
      "Emotion (FER): Angry\n",
      "Body Language: neutral [0.04 0.95 0.01]\n",
      "1/1 [==============================] - 0s 31ms/step\n"
     ]
    },
    {
     "name": "stderr",
     "output_type": "stream",
     "text": [
      "D:\\Softwares\\Anaconda\\Lib\\site-packages\\sklearn\\base.py:439: UserWarning: X does not have valid feature names, but StandardScaler was fitted with feature names\n",
      "  warnings.warn(\n",
      "D:\\Softwares\\Anaconda\\Lib\\site-packages\\sklearn\\base.py:439: UserWarning: X does not have valid feature names, but StandardScaler was fitted with feature names\n",
      "  warnings.warn(\n"
     ]
    },
    {
     "name": "stdout",
     "output_type": "stream",
     "text": [
      "Emotion (FER): Angry\n",
      "Body Language: neutral [0.03 0.96 0.01]\n",
      "1/1 [==============================] - 0s 35ms/step\n",
      "Emotion (FER): Angry\n"
     ]
    },
    {
     "name": "stderr",
     "output_type": "stream",
     "text": [
      "D:\\Softwares\\Anaconda\\Lib\\site-packages\\sklearn\\base.py:439: UserWarning: X does not have valid feature names, but StandardScaler was fitted with feature names\n",
      "  warnings.warn(\n",
      "D:\\Softwares\\Anaconda\\Lib\\site-packages\\sklearn\\base.py:439: UserWarning: X does not have valid feature names, but StandardScaler was fitted with feature names\n",
      "  warnings.warn(\n",
      "D:\\Softwares\\Anaconda\\Lib\\site-packages\\sklearn\\base.py:439: UserWarning: X does not have valid feature names, but StandardScaler was fitted with feature names\n",
      "  warnings.warn(\n"
     ]
    },
    {
     "name": "stdout",
     "output_type": "stream",
     "text": [
      "Body Language: neutral [0.03 0.96 0.01]\n",
      "1/1 [==============================] - 0s 33ms/step\n",
      "Emotion (FER): Angry\n",
      "Body Language: neutral [0.02 0.97 0.01]\n",
      "1/1 [==============================] - 0s 33ms/step\n"
     ]
    },
    {
     "name": "stderr",
     "output_type": "stream",
     "text": [
      "D:\\Softwares\\Anaconda\\Lib\\site-packages\\sklearn\\base.py:439: UserWarning: X does not have valid feature names, but StandardScaler was fitted with feature names\n",
      "  warnings.warn(\n",
      "D:\\Softwares\\Anaconda\\Lib\\site-packages\\sklearn\\base.py:439: UserWarning: X does not have valid feature names, but StandardScaler was fitted with feature names\n",
      "  warnings.warn(\n"
     ]
    },
    {
     "name": "stdout",
     "output_type": "stream",
     "text": [
      "Emotion (FER): Angry\n",
      "Body Language: neutral [0.01 0.98 0.01]\n",
      "1/1 [==============================] - 0s 31ms/step\n"
     ]
    },
    {
     "name": "stderr",
     "output_type": "stream",
     "text": [
      "D:\\Softwares\\Anaconda\\Lib\\site-packages\\sklearn\\base.py:439: UserWarning: X does not have valid feature names, but StandardScaler was fitted with feature names\n",
      "  warnings.warn(\n",
      "D:\\Softwares\\Anaconda\\Lib\\site-packages\\sklearn\\base.py:439: UserWarning: X does not have valid feature names, but StandardScaler was fitted with feature names\n",
      "  warnings.warn(\n"
     ]
    },
    {
     "name": "stdout",
     "output_type": "stream",
     "text": [
      "Emotion (FER): Angry\n",
      "Body Language: neutral [0.02 0.97 0.01]\n",
      "1/1 [==============================] - 0s 31ms/step\n"
     ]
    },
    {
     "name": "stderr",
     "output_type": "stream",
     "text": [
      "D:\\Softwares\\Anaconda\\Lib\\site-packages\\sklearn\\base.py:439: UserWarning: X does not have valid feature names, but StandardScaler was fitted with feature names\n",
      "  warnings.warn(\n",
      "D:\\Softwares\\Anaconda\\Lib\\site-packages\\sklearn\\base.py:439: UserWarning: X does not have valid feature names, but StandardScaler was fitted with feature names\n",
      "  warnings.warn(\n",
      "D:\\Softwares\\Anaconda\\Lib\\site-packages\\sklearn\\base.py:439: UserWarning: X does not have valid feature names, but StandardScaler was fitted with feature names\n",
      "  warnings.warn(\n",
      "D:\\Softwares\\Anaconda\\Lib\\site-packages\\sklearn\\base.py:439: UserWarning: X does not have valid feature names, but StandardScaler was fitted with feature names\n",
      "  warnings.warn(\n"
     ]
    },
    {
     "name": "stdout",
     "output_type": "stream",
     "text": [
      "Emotion (FER): Happy\n",
      "Body Language: neutral [0.02 0.97 0.01]\n",
      "1/1 [==============================] - 0s 35ms/step\n",
      "Emotion (FER): Happy\n",
      "Body Language: neutral [0.01 0.98 0.01]\n",
      "1/1 [==============================] - 0s 32ms/step\n"
     ]
    },
    {
     "name": "stderr",
     "output_type": "stream",
     "text": [
      "D:\\Softwares\\Anaconda\\Lib\\site-packages\\sklearn\\base.py:439: UserWarning: X does not have valid feature names, but StandardScaler was fitted with feature names\n",
      "  warnings.warn(\n",
      "D:\\Softwares\\Anaconda\\Lib\\site-packages\\sklearn\\base.py:439: UserWarning: X does not have valid feature names, but StandardScaler was fitted with feature names\n",
      "  warnings.warn(\n",
      "D:\\Softwares\\Anaconda\\Lib\\site-packages\\sklearn\\base.py:439: UserWarning: X does not have valid feature names, but StandardScaler was fitted with feature names\n",
      "  warnings.warn(\n",
      "D:\\Softwares\\Anaconda\\Lib\\site-packages\\sklearn\\base.py:439: UserWarning: X does not have valid feature names, but StandardScaler was fitted with feature names\n",
      "  warnings.warn(\n"
     ]
    },
    {
     "name": "stdout",
     "output_type": "stream",
     "text": [
      "Emotion (FER): Happy\n",
      "Body Language: neutral [0.01 0.98 0.01]\n",
      "1/1 [==============================] - 0s 34ms/step\n",
      "Emotion (FER): Angry\n",
      "Body Language: neutral [0.01 0.98 0.01]\n",
      "1/1 [==============================] - 0s 30ms/step\n"
     ]
    },
    {
     "name": "stderr",
     "output_type": "stream",
     "text": [
      "D:\\Softwares\\Anaconda\\Lib\\site-packages\\sklearn\\base.py:439: UserWarning: X does not have valid feature names, but StandardScaler was fitted with feature names\n",
      "  warnings.warn(\n",
      "D:\\Softwares\\Anaconda\\Lib\\site-packages\\sklearn\\base.py:439: UserWarning: X does not have valid feature names, but StandardScaler was fitted with feature names\n",
      "  warnings.warn(\n",
      "D:\\Softwares\\Anaconda\\Lib\\site-packages\\sklearn\\base.py:439: UserWarning: X does not have valid feature names, but StandardScaler was fitted with feature names\n",
      "  warnings.warn(\n",
      "D:\\Softwares\\Anaconda\\Lib\\site-packages\\sklearn\\base.py:439: UserWarning: X does not have valid feature names, but StandardScaler was fitted with feature names\n",
      "  warnings.warn(\n"
     ]
    },
    {
     "name": "stdout",
     "output_type": "stream",
     "text": [
      "Emotion (FER): Angry\n",
      "Body Language: neutral [0.01 0.98 0.01]\n",
      "1/1 [==============================] - 0s 32ms/step\n",
      "Emotion (FER): Angry\n",
      "Body Language: neutral [0.01 0.98 0.01]\n",
      "1/1 [==============================] - 0s 32ms/step\n",
      "Emotion (FER): Angry\n",
      "1/1 [==============================] - ETA: 0s"
     ]
    },
    {
     "name": "stderr",
     "output_type": "stream",
     "text": [
      "D:\\Softwares\\Anaconda\\Lib\\site-packages\\sklearn\\base.py:439: UserWarning: X does not have valid feature names, but StandardScaler was fitted with feature names\n",
      "  warnings.warn(\n",
      "D:\\Softwares\\Anaconda\\Lib\\site-packages\\sklearn\\base.py:439: UserWarning: X does not have valid feature names, but StandardScaler was fitted with feature names\n",
      "  warnings.warn(\n"
     ]
    },
    {
     "name": "stdout",
     "output_type": "stream",
     "text": [
      "1/1 [==============================] - 0s 34ms/step\n",
      "Emotion (FER): Sad\n",
      "Body Language: neutral [0.01 0.98 0.01]\n",
      "1/1 [==============================] - 0s 30ms/step\n"
     ]
    },
    {
     "name": "stderr",
     "output_type": "stream",
     "text": [
      "D:\\Softwares\\Anaconda\\Lib\\site-packages\\sklearn\\base.py:439: UserWarning: X does not have valid feature names, but StandardScaler was fitted with feature names\n",
      "  warnings.warn(\n",
      "D:\\Softwares\\Anaconda\\Lib\\site-packages\\sklearn\\base.py:439: UserWarning: X does not have valid feature names, but StandardScaler was fitted with feature names\n",
      "  warnings.warn(\n",
      "D:\\Softwares\\Anaconda\\Lib\\site-packages\\sklearn\\base.py:439: UserWarning: X does not have valid feature names, but StandardScaler was fitted with feature names\n",
      "  warnings.warn(\n",
      "D:\\Softwares\\Anaconda\\Lib\\site-packages\\sklearn\\base.py:439: UserWarning: X does not have valid feature names, but StandardScaler was fitted with feature names\n",
      "  warnings.warn(\n"
     ]
    },
    {
     "name": "stdout",
     "output_type": "stream",
     "text": [
      "Emotion (FER): Happy\n",
      "Body Language: neutral [0.01 0.98 0.01]\n",
      "1/1 [==============================] - 0s 34ms/step\n",
      "Emotion (FER): Happy\n",
      "1/1 [==============================] - 0s 31ms/step\n",
      "Emotion (FER): Angry\n",
      "Body Language: neutral [0.01 0.98 0.01]\n",
      "1/1 [==============================] - 0s 32ms/step\n",
      "Emotion (FER): Angry\n",
      "1/1 [==============================] - 0s 31ms/step\n",
      "Emotion (FER): Angry\n"
     ]
    },
    {
     "name": "stderr",
     "output_type": "stream",
     "text": [
      "D:\\Softwares\\Anaconda\\Lib\\site-packages\\sklearn\\base.py:439: UserWarning: X does not have valid feature names, but StandardScaler was fitted with feature names\n",
      "  warnings.warn(\n",
      "D:\\Softwares\\Anaconda\\Lib\\site-packages\\sklearn\\base.py:439: UserWarning: X does not have valid feature names, but StandardScaler was fitted with feature names\n",
      "  warnings.warn(\n"
     ]
    },
    {
     "name": "stdout",
     "output_type": "stream",
     "text": [
      "Body Language: neutral [0.01 0.98 0.01]\n",
      "1/1 [==============================] - 0s 32ms/step\n"
     ]
    },
    {
     "name": "stderr",
     "output_type": "stream",
     "text": [
      "D:\\Softwares\\Anaconda\\Lib\\site-packages\\sklearn\\base.py:439: UserWarning: X does not have valid feature names, but StandardScaler was fitted with feature names\n",
      "  warnings.warn(\n",
      "D:\\Softwares\\Anaconda\\Lib\\site-packages\\sklearn\\base.py:439: UserWarning: X does not have valid feature names, but StandardScaler was fitted with feature names\n",
      "  warnings.warn(\n",
      "D:\\Softwares\\Anaconda\\Lib\\site-packages\\sklearn\\base.py:439: UserWarning: X does not have valid feature names, but StandardScaler was fitted with feature names\n",
      "  warnings.warn(\n"
     ]
    },
    {
     "name": "stdout",
     "output_type": "stream",
     "text": [
      "Emotion (FER): Angry\n",
      "Body Language: neutral [0.01 0.98 0.01]\n",
      "1/1 [==============================] - 0s 34ms/step\n",
      "Emotion (FER): Angry\n",
      "1/1 [==============================] - 0s 32ms/step\n",
      "Emotion (FER): Angry\n"
     ]
    },
    {
     "name": "stderr",
     "output_type": "stream",
     "text": [
      "D:\\Softwares\\Anaconda\\Lib\\site-packages\\sklearn\\base.py:439: UserWarning: X does not have valid feature names, but StandardScaler was fitted with feature names\n",
      "  warnings.warn(\n"
     ]
    },
    {
     "name": "stdout",
     "output_type": "stream",
     "text": [
      "Body Language: neutral [0.02 0.97 0.01]\n",
      "1/1 [==============================] - 0s 31ms/step\n",
      "Emotion (FER): Happy\n",
      "1/1 [==============================] - ETA: 0s"
     ]
    },
    {
     "name": "stderr",
     "output_type": "stream",
     "text": [
      "D:\\Softwares\\Anaconda\\Lib\\site-packages\\sklearn\\base.py:439: UserWarning: X does not have valid feature names, but StandardScaler was fitted with feature names\n",
      "  warnings.warn(\n",
      "D:\\Softwares\\Anaconda\\Lib\\site-packages\\sklearn\\base.py:439: UserWarning: X does not have valid feature names, but StandardScaler was fitted with feature names\n",
      "  warnings.warn(\n"
     ]
    },
    {
     "name": "stdout",
     "output_type": "stream",
     "text": [
      "1/1 [==============================] - 0s 34ms/step\n",
      "Emotion (FER): Sad\n",
      "Error: 'NoneType' object has no attribute 'landmark'\n",
      "Error: 'NoneType' object has no attribute 'landmark'\n",
      "Error: 'NoneType' object has no attribute 'landmark'\n",
      "Body Language: neutral [0.02 0.98 0.  ]\n",
      "1/1 [==============================] - 0s 30ms/step\n"
     ]
    },
    {
     "name": "stderr",
     "output_type": "stream",
     "text": [
      "D:\\Softwares\\Anaconda\\Lib\\site-packages\\sklearn\\base.py:439: UserWarning: X does not have valid feature names, but StandardScaler was fitted with feature names\n",
      "  warnings.warn(\n",
      "D:\\Softwares\\Anaconda\\Lib\\site-packages\\sklearn\\base.py:439: UserWarning: X does not have valid feature names, but StandardScaler was fitted with feature names\n",
      "  warnings.warn(\n"
     ]
    },
    {
     "name": "stdout",
     "output_type": "stream",
     "text": [
      "Emotion (FER): Happy\n",
      "Body Language: neutral [0.02 0.98 0.  ]\n"
     ]
    },
    {
     "name": "stderr",
     "output_type": "stream",
     "text": [
      "D:\\Softwares\\Anaconda\\Lib\\site-packages\\sklearn\\base.py:439: UserWarning: X does not have valid feature names, but StandardScaler was fitted with feature names\n",
      "  warnings.warn(\n",
      "D:\\Softwares\\Anaconda\\Lib\\site-packages\\sklearn\\base.py:439: UserWarning: X does not have valid feature names, but StandardScaler was fitted with feature names\n",
      "  warnings.warn(\n",
      "D:\\Softwares\\Anaconda\\Lib\\site-packages\\sklearn\\base.py:439: UserWarning: X does not have valid feature names, but StandardScaler was fitted with feature names\n",
      "  warnings.warn(\n",
      "D:\\Softwares\\Anaconda\\Lib\\site-packages\\sklearn\\base.py:439: UserWarning: X does not have valid feature names, but StandardScaler was fitted with feature names\n",
      "  warnings.warn(\n"
     ]
    },
    {
     "name": "stdout",
     "output_type": "stream",
     "text": [
      "Body Language: neutral [0.01 0.99 0.  ]\n",
      "Body Language: neutral [0.02 0.98 0.  ]\n"
     ]
    },
    {
     "name": "stderr",
     "output_type": "stream",
     "text": [
      "D:\\Softwares\\Anaconda\\Lib\\site-packages\\sklearn\\base.py:439: UserWarning: X does not have valid feature names, but StandardScaler was fitted with feature names\n",
      "  warnings.warn(\n",
      "D:\\Softwares\\Anaconda\\Lib\\site-packages\\sklearn\\base.py:439: UserWarning: X does not have valid feature names, but StandardScaler was fitted with feature names\n",
      "  warnings.warn(\n",
      "D:\\Softwares\\Anaconda\\Lib\\site-packages\\sklearn\\base.py:439: UserWarning: X does not have valid feature names, but StandardScaler was fitted with feature names\n",
      "  warnings.warn(\n",
      "D:\\Softwares\\Anaconda\\Lib\\site-packages\\sklearn\\base.py:439: UserWarning: X does not have valid feature names, but StandardScaler was fitted with feature names\n",
      "  warnings.warn(\n"
     ]
    },
    {
     "name": "stdout",
     "output_type": "stream",
     "text": [
      "Body Language: neutral [0.01 0.99 0.  ]\n",
      "1/1 [==============================] - 0s 41ms/step\n",
      "Emotion (FER): Angry\n",
      "Body Language: neutral [0.01 0.99 0.  ]\n",
      "1/1 [==============================] - 0s 42ms/step\n"
     ]
    },
    {
     "name": "stderr",
     "output_type": "stream",
     "text": [
      "D:\\Softwares\\Anaconda\\Lib\\site-packages\\sklearn\\base.py:439: UserWarning: X does not have valid feature names, but StandardScaler was fitted with feature names\n",
      "  warnings.warn(\n",
      "D:\\Softwares\\Anaconda\\Lib\\site-packages\\sklearn\\base.py:439: UserWarning: X does not have valid feature names, but StandardScaler was fitted with feature names\n",
      "  warnings.warn(\n"
     ]
    },
    {
     "name": "stdout",
     "output_type": "stream",
     "text": [
      "Emotion (FER): Happy\n",
      "1/1 [==============================] - 0s 38ms/step\n",
      "Emotion (FER): Angry\n",
      "Body Language: neutral [0.01 0.99 0.  ]\n"
     ]
    },
    {
     "name": "stderr",
     "output_type": "stream",
     "text": [
      "D:\\Softwares\\Anaconda\\Lib\\site-packages\\sklearn\\base.py:439: UserWarning: X does not have valid feature names, but StandardScaler was fitted with feature names\n",
      "  warnings.warn(\n",
      "D:\\Softwares\\Anaconda\\Lib\\site-packages\\sklearn\\base.py:439: UserWarning: X does not have valid feature names, but StandardScaler was fitted with feature names\n",
      "  warnings.warn(\n"
     ]
    },
    {
     "name": "stdout",
     "output_type": "stream",
     "text": [
      "1/1 [==============================] - 0s 36ms/step\n",
      "Emotion (FER): Angry\n",
      "Body Language: neutral [0.01 0.99 0.  ]\n",
      "1/1 [==============================] - 0s 32ms/step\n"
     ]
    },
    {
     "name": "stderr",
     "output_type": "stream",
     "text": [
      "D:\\Softwares\\Anaconda\\Lib\\site-packages\\sklearn\\base.py:439: UserWarning: X does not have valid feature names, but StandardScaler was fitted with feature names\n",
      "  warnings.warn(\n",
      "D:\\Softwares\\Anaconda\\Lib\\site-packages\\sklearn\\base.py:439: UserWarning: X does not have valid feature names, but StandardScaler was fitted with feature names\n",
      "  warnings.warn(\n"
     ]
    },
    {
     "name": "stdout",
     "output_type": "stream",
     "text": [
      "Emotion (FER): Angry\n",
      "Body Language: neutral [0.01 0.99 0.  ]\n",
      "1/1 [==============================] - 0s 32ms/step\n"
     ]
    },
    {
     "name": "stderr",
     "output_type": "stream",
     "text": [
      "D:\\Softwares\\Anaconda\\Lib\\site-packages\\sklearn\\base.py:439: UserWarning: X does not have valid feature names, but StandardScaler was fitted with feature names\n",
      "  warnings.warn(\n",
      "D:\\Softwares\\Anaconda\\Lib\\site-packages\\sklearn\\base.py:439: UserWarning: X does not have valid feature names, but StandardScaler was fitted with feature names\n",
      "  warnings.warn(\n",
      "D:\\Softwares\\Anaconda\\Lib\\site-packages\\sklearn\\base.py:439: UserWarning: X does not have valid feature names, but StandardScaler was fitted with feature names\n",
      "  warnings.warn(\n",
      "D:\\Softwares\\Anaconda\\Lib\\site-packages\\sklearn\\base.py:439: UserWarning: X does not have valid feature names, but StandardScaler was fitted with feature names\n",
      "  warnings.warn(\n"
     ]
    },
    {
     "name": "stdout",
     "output_type": "stream",
     "text": [
      "Emotion (FER): Angry\n",
      "Body Language: neutral [0.02 0.98 0.  ]\n",
      "1/1 [==============================] - 0s 34ms/step\n",
      "Emotion (FER): Angry\n",
      "Body Language: neutral [0.01 0.99 0.  ]\n",
      "1/1 [==============================] - 0s 32ms/step\n"
     ]
    },
    {
     "name": "stderr",
     "output_type": "stream",
     "text": [
      "D:\\Softwares\\Anaconda\\Lib\\site-packages\\sklearn\\base.py:439: UserWarning: X does not have valid feature names, but StandardScaler was fitted with feature names\n",
      "  warnings.warn(\n",
      "D:\\Softwares\\Anaconda\\Lib\\site-packages\\sklearn\\base.py:439: UserWarning: X does not have valid feature names, but StandardScaler was fitted with feature names\n",
      "  warnings.warn(\n",
      "D:\\Softwares\\Anaconda\\Lib\\site-packages\\sklearn\\base.py:439: UserWarning: X does not have valid feature names, but StandardScaler was fitted with feature names\n",
      "  warnings.warn(\n"
     ]
    },
    {
     "name": "stdout",
     "output_type": "stream",
     "text": [
      "Emotion (FER): Angry\n",
      "Body Language: neutral [0.01 0.99 0.  ]\n"
     ]
    },
    {
     "name": "stderr",
     "output_type": "stream",
     "text": [
      "D:\\Softwares\\Anaconda\\Lib\\site-packages\\sklearn\\base.py:439: UserWarning: X does not have valid feature names, but StandardScaler was fitted with feature names\n",
      "  warnings.warn(\n",
      "D:\\Softwares\\Anaconda\\Lib\\site-packages\\sklearn\\base.py:439: UserWarning: X does not have valid feature names, but StandardScaler was fitted with feature names\n",
      "  warnings.warn(\n",
      "D:\\Softwares\\Anaconda\\Lib\\site-packages\\sklearn\\base.py:439: UserWarning: X does not have valid feature names, but StandardScaler was fitted with feature names\n",
      "  warnings.warn(\n"
     ]
    },
    {
     "name": "stdout",
     "output_type": "stream",
     "text": [
      "Body Language: neutral [0.01 0.99 0.  ]\n",
      "Body Language: neutral [0.01 0.98 0.01]\n"
     ]
    },
    {
     "name": "stderr",
     "output_type": "stream",
     "text": [
      "D:\\Softwares\\Anaconda\\Lib\\site-packages\\sklearn\\base.py:439: UserWarning: X does not have valid feature names, but StandardScaler was fitted with feature names\n",
      "  warnings.warn(\n",
      "D:\\Softwares\\Anaconda\\Lib\\site-packages\\sklearn\\base.py:439: UserWarning: X does not have valid feature names, but StandardScaler was fitted with feature names\n",
      "  warnings.warn(\n",
      "D:\\Softwares\\Anaconda\\Lib\\site-packages\\sklearn\\base.py:439: UserWarning: X does not have valid feature names, but StandardScaler was fitted with feature names\n",
      "  warnings.warn(\n",
      "D:\\Softwares\\Anaconda\\Lib\\site-packages\\sklearn\\base.py:439: UserWarning: X does not have valid feature names, but StandardScaler was fitted with feature names\n",
      "  warnings.warn(\n"
     ]
    },
    {
     "name": "stdout",
     "output_type": "stream",
     "text": [
      "Body Language: neutral [0.01 0.98 0.01]\n",
      "1/1 [==============================] - 0s 31ms/step\n",
      "Emotion (FER): Angry\n",
      "Body Language: neutral [0.01 0.98 0.01]\n"
     ]
    },
    {
     "name": "stderr",
     "output_type": "stream",
     "text": [
      "D:\\Softwares\\Anaconda\\Lib\\site-packages\\sklearn\\base.py:439: UserWarning: X does not have valid feature names, but StandardScaler was fitted with feature names\n",
      "  warnings.warn(\n",
      "D:\\Softwares\\Anaconda\\Lib\\site-packages\\sklearn\\base.py:439: UserWarning: X does not have valid feature names, but StandardScaler was fitted with feature names\n",
      "  warnings.warn(\n",
      "D:\\Softwares\\Anaconda\\Lib\\site-packages\\sklearn\\base.py:439: UserWarning: X does not have valid feature names, but StandardScaler was fitted with feature names\n",
      "  warnings.warn(\n",
      "D:\\Softwares\\Anaconda\\Lib\\site-packages\\sklearn\\base.py:439: UserWarning: X does not have valid feature names, but StandardScaler was fitted with feature names\n",
      "  warnings.warn(\n"
     ]
    },
    {
     "name": "stdout",
     "output_type": "stream",
     "text": [
      "Body Language: neutral [0.01 0.98 0.01]\n",
      "Body Language: neutral [0.02 0.98 0.  ]\n"
     ]
    },
    {
     "name": "stderr",
     "output_type": "stream",
     "text": [
      "D:\\Softwares\\Anaconda\\Lib\\site-packages\\sklearn\\base.py:439: UserWarning: X does not have valid feature names, but StandardScaler was fitted with feature names\n",
      "  warnings.warn(\n",
      "D:\\Softwares\\Anaconda\\Lib\\site-packages\\sklearn\\base.py:439: UserWarning: X does not have valid feature names, but StandardScaler was fitted with feature names\n",
      "  warnings.warn(\n",
      "D:\\Softwares\\Anaconda\\Lib\\site-packages\\sklearn\\base.py:439: UserWarning: X does not have valid feature names, but StandardScaler was fitted with feature names\n",
      "  warnings.warn(\n",
      "D:\\Softwares\\Anaconda\\Lib\\site-packages\\sklearn\\base.py:439: UserWarning: X does not have valid feature names, but StandardScaler was fitted with feature names\n",
      "  warnings.warn(\n"
     ]
    },
    {
     "name": "stdout",
     "output_type": "stream",
     "text": [
      "Body Language: neutral [0.02 0.98 0.  ]\n",
      "Body Language: neutral [0.02 0.98 0.  ]\n"
     ]
    },
    {
     "name": "stderr",
     "output_type": "stream",
     "text": [
      "D:\\Softwares\\Anaconda\\Lib\\site-packages\\sklearn\\base.py:439: UserWarning: X does not have valid feature names, but StandardScaler was fitted with feature names\n",
      "  warnings.warn(\n",
      "D:\\Softwares\\Anaconda\\Lib\\site-packages\\sklearn\\base.py:439: UserWarning: X does not have valid feature names, but StandardScaler was fitted with feature names\n",
      "  warnings.warn(\n",
      "D:\\Softwares\\Anaconda\\Lib\\site-packages\\sklearn\\base.py:439: UserWarning: X does not have valid feature names, but StandardScaler was fitted with feature names\n",
      "  warnings.warn(\n",
      "D:\\Softwares\\Anaconda\\Lib\\site-packages\\sklearn\\base.py:439: UserWarning: X does not have valid feature names, but StandardScaler was fitted with feature names\n",
      "  warnings.warn(\n"
     ]
    },
    {
     "name": "stdout",
     "output_type": "stream",
     "text": [
      "Body Language: neutral [0.02 0.98 0.  ]\n",
      "Body Language: neutral [0.01 0.98 0.01]\n"
     ]
    },
    {
     "name": "stderr",
     "output_type": "stream",
     "text": [
      "D:\\Softwares\\Anaconda\\Lib\\site-packages\\sklearn\\base.py:439: UserWarning: X does not have valid feature names, but StandardScaler was fitted with feature names\n",
      "  warnings.warn(\n",
      "D:\\Softwares\\Anaconda\\Lib\\site-packages\\sklearn\\base.py:439: UserWarning: X does not have valid feature names, but StandardScaler was fitted with feature names\n",
      "  warnings.warn(\n",
      "D:\\Softwares\\Anaconda\\Lib\\site-packages\\sklearn\\base.py:439: UserWarning: X does not have valid feature names, but StandardScaler was fitted with feature names\n",
      "  warnings.warn(\n",
      "D:\\Softwares\\Anaconda\\Lib\\site-packages\\sklearn\\base.py:439: UserWarning: X does not have valid feature names, but StandardScaler was fitted with feature names\n",
      "  warnings.warn(\n"
     ]
    },
    {
     "name": "stdout",
     "output_type": "stream",
     "text": [
      "Body Language: neutral [0.01 0.98 0.01]\n",
      "Error: 'NoneType' object has no attribute 'landmark'\n",
      "Error: 'NoneType' object has no attribute 'landmark'\n",
      "Body Language: neutral [0.01 0.98 0.01]\n",
      "1/1 [==============================] - 0s 30ms/step\n"
     ]
    },
    {
     "name": "stderr",
     "output_type": "stream",
     "text": [
      "D:\\Softwares\\Anaconda\\Lib\\site-packages\\sklearn\\base.py:439: UserWarning: X does not have valid feature names, but StandardScaler was fitted with feature names\n",
      "  warnings.warn(\n",
      "D:\\Softwares\\Anaconda\\Lib\\site-packages\\sklearn\\base.py:439: UserWarning: X does not have valid feature names, but StandardScaler was fitted with feature names\n",
      "  warnings.warn(\n"
     ]
    },
    {
     "name": "stdout",
     "output_type": "stream",
     "text": [
      "Emotion (FER): Happy\n",
      "Error: 'NoneType' object has no attribute 'landmark'\n",
      "1/1 [==============================] - 0s 32ms/step\n",
      "Emotion (FER): Angry\n",
      "Body Language: neutral [0.01 0.99 0.  ]\n",
      "1/1 [==============================] - 0s 32ms/step\n"
     ]
    },
    {
     "name": "stderr",
     "output_type": "stream",
     "text": [
      "D:\\Softwares\\Anaconda\\Lib\\site-packages\\sklearn\\base.py:439: UserWarning: X does not have valid feature names, but StandardScaler was fitted with feature names\n",
      "  warnings.warn(\n",
      "D:\\Softwares\\Anaconda\\Lib\\site-packages\\sklearn\\base.py:439: UserWarning: X does not have valid feature names, but StandardScaler was fitted with feature names\n",
      "  warnings.warn(\n",
      "D:\\Softwares\\Anaconda\\Lib\\site-packages\\sklearn\\base.py:439: UserWarning: X does not have valid feature names, but StandardScaler was fitted with feature names\n",
      "  warnings.warn(\n"
     ]
    },
    {
     "name": "stdout",
     "output_type": "stream",
     "text": [
      "Emotion (FER): Angry\n",
      "Body Language: neutral [0.01 0.99 0.  ]\n",
      "1/1 [==============================] - 0s 33ms/step\n"
     ]
    },
    {
     "name": "stderr",
     "output_type": "stream",
     "text": [
      "D:\\Softwares\\Anaconda\\Lib\\site-packages\\sklearn\\base.py:439: UserWarning: X does not have valid feature names, but StandardScaler was fitted with feature names\n",
      "  warnings.warn(\n",
      "D:\\Softwares\\Anaconda\\Lib\\site-packages\\sklearn\\base.py:439: UserWarning: X does not have valid feature names, but StandardScaler was fitted with feature names\n",
      "  warnings.warn(\n",
      "D:\\Softwares\\Anaconda\\Lib\\site-packages\\sklearn\\base.py:439: UserWarning: X does not have valid feature names, but StandardScaler was fitted with feature names\n",
      "  warnings.warn(\n"
     ]
    },
    {
     "name": "stdout",
     "output_type": "stream",
     "text": [
      "Emotion (FER): Angry\n",
      "Body Language: neutral [0.02 0.98 0.  ]\n",
      "1/1 [==============================] - 0s 34ms/step\n",
      "Emotion (FER): Angry\n",
      "Body Language: neutral [0.02 0.97 0.01]\n",
      "1/1 [==============================] - 0s 31ms/step\n",
      "Emotion (FER): Angry\n",
      "1/1 [==============================] - 0s 31ms/step\n"
     ]
    },
    {
     "name": "stderr",
     "output_type": "stream",
     "text": [
      "D:\\Softwares\\Anaconda\\Lib\\site-packages\\sklearn\\base.py:439: UserWarning: X does not have valid feature names, but StandardScaler was fitted with feature names\n",
      "  warnings.warn(\n",
      "D:\\Softwares\\Anaconda\\Lib\\site-packages\\sklearn\\base.py:439: UserWarning: X does not have valid feature names, but StandardScaler was fitted with feature names\n",
      "  warnings.warn(\n"
     ]
    },
    {
     "name": "stdout",
     "output_type": "stream",
     "text": [
      "Emotion (FER): Fear\n",
      "Body Language: neutral [0.01 0.98 0.01]\n",
      "1/1 [==============================] - 0s 33ms/step\n"
     ]
    },
    {
     "name": "stderr",
     "output_type": "stream",
     "text": [
      "D:\\Softwares\\Anaconda\\Lib\\site-packages\\sklearn\\base.py:439: UserWarning: X does not have valid feature names, but StandardScaler was fitted with feature names\n",
      "  warnings.warn(\n",
      "D:\\Softwares\\Anaconda\\Lib\\site-packages\\sklearn\\base.py:439: UserWarning: X does not have valid feature names, but StandardScaler was fitted with feature names\n",
      "  warnings.warn(\n"
     ]
    },
    {
     "name": "stdout",
     "output_type": "stream",
     "text": [
      "Emotion (FER): Angry\n",
      "Body Language: neutral [0.01 0.98 0.01]\n",
      "1/1 [==============================] - 0s 36ms/step\n",
      "Emotion (FER): Angry\n",
      "1/1 [==============================] - ETA: 0s"
     ]
    },
    {
     "name": "stderr",
     "output_type": "stream",
     "text": [
      "D:\\Softwares\\Anaconda\\Lib\\site-packages\\sklearn\\base.py:439: UserWarning: X does not have valid feature names, but StandardScaler was fitted with feature names\n",
      "  warnings.warn(\n",
      "D:\\Softwares\\Anaconda\\Lib\\site-packages\\sklearn\\base.py:439: UserWarning: X does not have valid feature names, but StandardScaler was fitted with feature names\n",
      "  warnings.warn(\n"
     ]
    },
    {
     "name": "stdout",
     "output_type": "stream",
     "text": [
      "1/1 [==============================] - 0s 33ms/step\n",
      "Emotion (FER): Angry\n",
      "Body Language: neutral [0.01 0.98 0.01]\n",
      "1/1 [==============================] - 0s 31ms/step\n",
      "Emotion (FER): Angry\n",
      "1/1 [==============================] - ETA: 0s"
     ]
    },
    {
     "name": "stderr",
     "output_type": "stream",
     "text": [
      "D:\\Softwares\\Anaconda\\Lib\\site-packages\\sklearn\\base.py:439: UserWarning: X does not have valid feature names, but StandardScaler was fitted with feature names\n",
      "  warnings.warn(\n",
      "D:\\Softwares\\Anaconda\\Lib\\site-packages\\sklearn\\base.py:439: UserWarning: X does not have valid feature names, but StandardScaler was fitted with feature names\n",
      "  warnings.warn(\n"
     ]
    },
    {
     "name": "stdout",
     "output_type": "stream",
     "text": [
      "1/1 [==============================] - 0s 33ms/step\n",
      "Emotion (FER): Angry\n",
      "Body Language: neutral [0.01 0.98 0.01]\n",
      "1/1 [==============================] - 0s 30ms/step\n",
      "Emotion (FER): Angry\n",
      "1/1 [==============================] - 0s 31ms/step\n"
     ]
    },
    {
     "name": "stderr",
     "output_type": "stream",
     "text": [
      "D:\\Softwares\\Anaconda\\Lib\\site-packages\\sklearn\\base.py:439: UserWarning: X does not have valid feature names, but StandardScaler was fitted with feature names\n",
      "  warnings.warn(\n",
      "D:\\Softwares\\Anaconda\\Lib\\site-packages\\sklearn\\base.py:439: UserWarning: X does not have valid feature names, but StandardScaler was fitted with feature names\n",
      "  warnings.warn(\n"
     ]
    },
    {
     "name": "stdout",
     "output_type": "stream",
     "text": [
      "Emotion (FER): Angry\n",
      "Body Language: neutral [0.01 0.98 0.01]\n",
      "1/1 [==============================] - 0s 32ms/step\n",
      "Emotion (FER): Fear\n",
      "1/1 [==============================] - ETA: 0s"
     ]
    },
    {
     "name": "stderr",
     "output_type": "stream",
     "text": [
      "D:\\Softwares\\Anaconda\\Lib\\site-packages\\sklearn\\base.py:439: UserWarning: X does not have valid feature names, but StandardScaler was fitted with feature names\n",
      "  warnings.warn(\n",
      "D:\\Softwares\\Anaconda\\Lib\\site-packages\\sklearn\\base.py:439: UserWarning: X does not have valid feature names, but StandardScaler was fitted with feature names\n",
      "  warnings.warn(\n"
     ]
    },
    {
     "name": "stdout",
     "output_type": "stream",
     "text": [
      "1/1 [==============================] - 0s 33ms/step\n",
      "Emotion (FER): Angry\n",
      "Body Language: neutral [0.01 0.98 0.01]\n",
      "1/1 [==============================] - 0s 34ms/step\n",
      "Emotion (FER): Angry\n",
      "1/1 [==============================] - ETA: 0s"
     ]
    },
    {
     "name": "stderr",
     "output_type": "stream",
     "text": [
      "D:\\Softwares\\Anaconda\\Lib\\site-packages\\sklearn\\base.py:439: UserWarning: X does not have valid feature names, but StandardScaler was fitted with feature names\n",
      "  warnings.warn(\n",
      "D:\\Softwares\\Anaconda\\Lib\\site-packages\\sklearn\\base.py:439: UserWarning: X does not have valid feature names, but StandardScaler was fitted with feature names\n",
      "  warnings.warn(\n"
     ]
    },
    {
     "name": "stdout",
     "output_type": "stream",
     "text": [
      "1/1 [==============================] - 0s 31ms/step\n",
      "Emotion (FER): Surprise\n",
      "Body Language: neutral [0.02 0.97 0.01]\n",
      "1/1 [==============================] - 0s 34ms/step\n",
      "Emotion (FER): Angry\n",
      "1/1 [==============================] - ETA: 0s"
     ]
    },
    {
     "name": "stderr",
     "output_type": "stream",
     "text": [
      "D:\\Softwares\\Anaconda\\Lib\\site-packages\\sklearn\\base.py:439: UserWarning: X does not have valid feature names, but StandardScaler was fitted with feature names\n",
      "  warnings.warn(\n",
      "D:\\Softwares\\Anaconda\\Lib\\site-packages\\sklearn\\base.py:439: UserWarning: X does not have valid feature names, but StandardScaler was fitted with feature names\n",
      "  warnings.warn(\n"
     ]
    },
    {
     "name": "stdout",
     "output_type": "stream",
     "text": [
      "1/1 [==============================] - 0s 30ms/step\n",
      "Emotion (FER): Angry\n",
      "Body Language: neutral [0.02 0.97 0.01]\n",
      "1/1 [==============================] - 0s 32ms/step\n",
      "Emotion (FER): Angry\n",
      "1/1 [==============================] - 0s 32ms/step\n"
     ]
    },
    {
     "name": "stderr",
     "output_type": "stream",
     "text": [
      "D:\\Softwares\\Anaconda\\Lib\\site-packages\\sklearn\\base.py:439: UserWarning: X does not have valid feature names, but StandardScaler was fitted with feature names\n",
      "  warnings.warn(\n",
      "D:\\Softwares\\Anaconda\\Lib\\site-packages\\sklearn\\base.py:439: UserWarning: X does not have valid feature names, but StandardScaler was fitted with feature names\n",
      "  warnings.warn(\n"
     ]
    },
    {
     "name": "stdout",
     "output_type": "stream",
     "text": [
      "Emotion (FER): Angry\n",
      "Body Language: neutral [0.02 0.97 0.01]\n",
      "1/1 [==============================] - 0s 32ms/step\n",
      "Emotion (FER): Angry\n",
      "1/1 [==============================] - ETA: 0s"
     ]
    },
    {
     "name": "stderr",
     "output_type": "stream",
     "text": [
      "D:\\Softwares\\Anaconda\\Lib\\site-packages\\sklearn\\base.py:439: UserWarning: X does not have valid feature names, but StandardScaler was fitted with feature names\n",
      "  warnings.warn(\n",
      "D:\\Softwares\\Anaconda\\Lib\\site-packages\\sklearn\\base.py:439: UserWarning: X does not have valid feature names, but StandardScaler was fitted with feature names\n",
      "  warnings.warn(\n"
     ]
    },
    {
     "name": "stdout",
     "output_type": "stream",
     "text": [
      "1/1 [==============================] - 0s 33ms/step\n",
      "Emotion (FER): Angry\n",
      "Body Language: neutral [0.02 0.97 0.01]\n",
      "1/1 [==============================] - 0s 31ms/step\n",
      "Emotion (FER): Angry\n",
      "1/1 [==============================] - 0s 31ms/step\n",
      "Emotion (FER): Angry\n"
     ]
    },
    {
     "name": "stderr",
     "output_type": "stream",
     "text": [
      "D:\\Softwares\\Anaconda\\Lib\\site-packages\\sklearn\\base.py:439: UserWarning: X does not have valid feature names, but StandardScaler was fitted with feature names\n",
      "  warnings.warn(\n",
      "D:\\Softwares\\Anaconda\\Lib\\site-packages\\sklearn\\base.py:439: UserWarning: X does not have valid feature names, but StandardScaler was fitted with feature names\n",
      "  warnings.warn(\n"
     ]
    },
    {
     "name": "stdout",
     "output_type": "stream",
     "text": [
      "Body Language: neutral [0.02 0.97 0.01]\n",
      "1/1 [==============================] - 0s 32ms/step\n",
      "Emotion (FER): Angry\n",
      "1/1 [==============================] - ETA: 0s"
     ]
    },
    {
     "name": "stderr",
     "output_type": "stream",
     "text": [
      "D:\\Softwares\\Anaconda\\Lib\\site-packages\\sklearn\\base.py:439: UserWarning: X does not have valid feature names, but StandardScaler was fitted with feature names\n",
      "  warnings.warn(\n",
      "D:\\Softwares\\Anaconda\\Lib\\site-packages\\sklearn\\base.py:439: UserWarning: X does not have valid feature names, but StandardScaler was fitted with feature names\n",
      "  warnings.warn(\n"
     ]
    },
    {
     "name": "stdout",
     "output_type": "stream",
     "text": [
      "1/1 [==============================] - 0s 32ms/step\n",
      "Emotion (FER): Angry\n",
      "Body Language: neutral [0.02 0.97 0.01]\n",
      "1/1 [==============================] - 0s 32ms/step\n",
      "Emotion (FER): Angry\n",
      "1/1 [==============================] - 0s 33ms/step\n"
     ]
    },
    {
     "name": "stderr",
     "output_type": "stream",
     "text": [
      "D:\\Softwares\\Anaconda\\Lib\\site-packages\\sklearn\\base.py:439: UserWarning: X does not have valid feature names, but StandardScaler was fitted with feature names\n",
      "  warnings.warn(\n",
      "D:\\Softwares\\Anaconda\\Lib\\site-packages\\sklearn\\base.py:439: UserWarning: X does not have valid feature names, but StandardScaler was fitted with feature names\n",
      "  warnings.warn(\n"
     ]
    },
    {
     "name": "stdout",
     "output_type": "stream",
     "text": [
      "Emotion (FER): Angry\n",
      "Body Language: neutral [0.01 0.98 0.01]\n",
      "1/1 [==============================] - 0s 35ms/step\n",
      "Emotion (FER): Angry\n",
      "1/1 [==============================] - ETA: 0s"
     ]
    },
    {
     "name": "stderr",
     "output_type": "stream",
     "text": [
      "D:\\Softwares\\Anaconda\\Lib\\site-packages\\sklearn\\base.py:439: UserWarning: X does not have valid feature names, but StandardScaler was fitted with feature names\n",
      "  warnings.warn(\n",
      "D:\\Softwares\\Anaconda\\Lib\\site-packages\\sklearn\\base.py:439: UserWarning: X does not have valid feature names, but StandardScaler was fitted with feature names\n",
      "  warnings.warn(\n"
     ]
    },
    {
     "name": "stdout",
     "output_type": "stream",
     "text": [
      "1/1 [==============================] - 0s 33ms/step\n",
      "Emotion (FER): Angry\n",
      "Body Language: neutral [0.01 0.98 0.01]\n",
      "1/1 [==============================] - 0s 35ms/step\n"
     ]
    },
    {
     "name": "stderr",
     "output_type": "stream",
     "text": [
      "D:\\Softwares\\Anaconda\\Lib\\site-packages\\sklearn\\base.py:439: UserWarning: X does not have valid feature names, but StandardScaler was fitted with feature names\n",
      "  warnings.warn(\n",
      "D:\\Softwares\\Anaconda\\Lib\\site-packages\\sklearn\\base.py:439: UserWarning: X does not have valid feature names, but StandardScaler was fitted with feature names\n",
      "  warnings.warn(\n"
     ]
    },
    {
     "name": "stdout",
     "output_type": "stream",
     "text": [
      "Emotion (FER): Fear\n",
      "1/1 [==============================] - 0s 33ms/step\n",
      "Emotion (FER): Angry\n",
      "Body Language: neutral [0.01 0.98 0.01]\n",
      "1/1 [==============================] - 0s 32ms/step\n",
      "Emotion (FER): Angry\n",
      "1/1 [==============================] - 0s 32ms/step\n"
     ]
    },
    {
     "name": "stderr",
     "output_type": "stream",
     "text": [
      "D:\\Softwares\\Anaconda\\Lib\\site-packages\\sklearn\\base.py:439: UserWarning: X does not have valid feature names, but StandardScaler was fitted with feature names\n",
      "  warnings.warn(\n",
      "D:\\Softwares\\Anaconda\\Lib\\site-packages\\sklearn\\base.py:439: UserWarning: X does not have valid feature names, but StandardScaler was fitted with feature names\n",
      "  warnings.warn(\n"
     ]
    },
    {
     "name": "stdout",
     "output_type": "stream",
     "text": [
      "Emotion (FER): Angry\n",
      "Body Language: neutral [0.01 0.98 0.01]\n",
      "1/1 [==============================] - 0s 32ms/step\n",
      "Emotion (FER): Angry\n",
      "1/1 [==============================] - 0s 32ms/step\n"
     ]
    },
    {
     "name": "stderr",
     "output_type": "stream",
     "text": [
      "D:\\Softwares\\Anaconda\\Lib\\site-packages\\sklearn\\base.py:439: UserWarning: X does not have valid feature names, but StandardScaler was fitted with feature names\n",
      "  warnings.warn(\n",
      "D:\\Softwares\\Anaconda\\Lib\\site-packages\\sklearn\\base.py:439: UserWarning: X does not have valid feature names, but StandardScaler was fitted with feature names\n",
      "  warnings.warn(\n"
     ]
    },
    {
     "name": "stdout",
     "output_type": "stream",
     "text": [
      "Emotion (FER): Happy\n",
      "Body Language: neutral [0.02 0.97 0.01]\n",
      "1/1 [==============================] - 0s 33ms/step\n",
      "Emotion (FER): Fear\n",
      "1/1 [==============================] - ETA: 0s"
     ]
    },
    {
     "name": "stderr",
     "output_type": "stream",
     "text": [
      "D:\\Softwares\\Anaconda\\Lib\\site-packages\\sklearn\\base.py:439: UserWarning: X does not have valid feature names, but StandardScaler was fitted with feature names\n",
      "  warnings.warn(\n",
      "D:\\Softwares\\Anaconda\\Lib\\site-packages\\sklearn\\base.py:439: UserWarning: X does not have valid feature names, but StandardScaler was fitted with feature names\n",
      "  warnings.warn(\n"
     ]
    },
    {
     "name": "stdout",
     "output_type": "stream",
     "text": [
      "1/1 [==============================] - 0s 32ms/step\n",
      "Emotion (FER): Angry\n",
      "Body Language: neutral [0.01 0.98 0.01]\n",
      "1/1 [==============================] - 0s 30ms/step\n"
     ]
    },
    {
     "name": "stderr",
     "output_type": "stream",
     "text": [
      "D:\\Softwares\\Anaconda\\Lib\\site-packages\\sklearn\\base.py:439: UserWarning: X does not have valid feature names, but StandardScaler was fitted with feature names\n",
      "  warnings.warn(\n",
      "D:\\Softwares\\Anaconda\\Lib\\site-packages\\sklearn\\base.py:439: UserWarning: X does not have valid feature names, but StandardScaler was fitted with feature names\n",
      "  warnings.warn(\n"
     ]
    },
    {
     "name": "stdout",
     "output_type": "stream",
     "text": [
      "Emotion (FER): Angry\n",
      "1/1 [==============================] - 0s 31ms/step\n",
      "Emotion (FER): Angry\n",
      "Body Language: neutral [0.01 0.98 0.01]\n",
      "1/1 [==============================] - 0s 33ms/step\n"
     ]
    },
    {
     "name": "stderr",
     "output_type": "stream",
     "text": [
      "D:\\Softwares\\Anaconda\\Lib\\site-packages\\sklearn\\base.py:439: UserWarning: X does not have valid feature names, but StandardScaler was fitted with feature names\n",
      "  warnings.warn(\n",
      "D:\\Softwares\\Anaconda\\Lib\\site-packages\\sklearn\\base.py:439: UserWarning: X does not have valid feature names, but StandardScaler was fitted with feature names\n",
      "  warnings.warn(\n",
      "D:\\Softwares\\Anaconda\\Lib\\site-packages\\sklearn\\base.py:439: UserWarning: X does not have valid feature names, but StandardScaler was fitted with feature names\n",
      "  warnings.warn(\n",
      "D:\\Softwares\\Anaconda\\Lib\\site-packages\\sklearn\\base.py:439: UserWarning: X does not have valid feature names, but StandardScaler was fitted with feature names\n",
      "  warnings.warn(\n"
     ]
    },
    {
     "name": "stdout",
     "output_type": "stream",
     "text": [
      "Emotion (FER): Angry\n",
      "Body Language: neutral [0.02 0.97 0.01]\n",
      "1/1 [==============================] - 0s 34ms/step\n",
      "Emotion (FER): Angry\n",
      "1/1 [==============================] - 0s 32ms/step\n",
      "Emotion (FER): Angry\n",
      "Body Language: neutral [0.02 0.97 0.01]\n",
      "1/1 [==============================] - 0s 32ms/step\n",
      "Emotion (FER): Angry\n",
      "1/1 [==============================] - ETA: 0s"
     ]
    },
    {
     "name": "stderr",
     "output_type": "stream",
     "text": [
      "D:\\Softwares\\Anaconda\\Lib\\site-packages\\sklearn\\base.py:439: UserWarning: X does not have valid feature names, but StandardScaler was fitted with feature names\n",
      "  warnings.warn(\n",
      "D:\\Softwares\\Anaconda\\Lib\\site-packages\\sklearn\\base.py:439: UserWarning: X does not have valid feature names, but StandardScaler was fitted with feature names\n",
      "  warnings.warn(\n"
     ]
    },
    {
     "name": "stdout",
     "output_type": "stream",
     "text": [
      "1/1 [==============================] - 0s 34ms/step\n",
      "Emotion (FER): Angry\n",
      "Body Language: neutral [0.02 0.97 0.01]\n",
      "1/1 [==============================] - 0s 31ms/step\n",
      "Emotion (FER): Angry\n",
      "Body Language:"
     ]
    },
    {
     "name": "stderr",
     "output_type": "stream",
     "text": [
      "D:\\Softwares\\Anaconda\\Lib\\site-packages\\sklearn\\base.py:439: UserWarning: X does not have valid feature names, but StandardScaler was fitted with feature names\n",
      "  warnings.warn(\n",
      "D:\\Softwares\\Anaconda\\Lib\\site-packages\\sklearn\\base.py:439: UserWarning: X does not have valid feature names, but StandardScaler was fitted with feature names\n",
      "  warnings.warn(\n",
      "D:\\Softwares\\Anaconda\\Lib\\site-packages\\sklearn\\base.py:439: UserWarning: X does not have valid feature names, but StandardScaler was fitted with feature names\n",
      "  warnings.warn(\n",
      "D:\\Softwares\\Anaconda\\Lib\\site-packages\\sklearn\\base.py:439: UserWarning: X does not have valid feature names, but StandardScaler was fitted with feature names\n",
      "  warnings.warn(\n"
     ]
    },
    {
     "name": "stdout",
     "output_type": "stream",
     "text": [
      " neutral [0.01 0.98 0.01]\n",
      "1/1 [==============================] - 0s 33ms/step\n",
      "Emotion (FER): Angry\n",
      "Body Language: neutral [0.01 0.98 0.01]\n",
      "1/1 [==============================] - 0s 32ms/step\n",
      "Emotion (FER): Happy\n",
      "1/1 [==============================] - ETA: 0s"
     ]
    },
    {
     "name": "stderr",
     "output_type": "stream",
     "text": [
      "D:\\Softwares\\Anaconda\\Lib\\site-packages\\sklearn\\base.py:439: UserWarning: X does not have valid feature names, but StandardScaler was fitted with feature names\n",
      "  warnings.warn(\n",
      "D:\\Softwares\\Anaconda\\Lib\\site-packages\\sklearn\\base.py:439: UserWarning: X does not have valid feature names, but StandardScaler was fitted with feature names\n",
      "  warnings.warn(\n"
     ]
    },
    {
     "name": "stdout",
     "output_type": "stream",
     "text": [
      "1/1 [==============================] - 0s 35ms/step\n",
      "Emotion (FER): Angry\n",
      "Body Language: neutral [0.01 0.98 0.01]\n",
      "1/1 [==============================] - 0s 38ms/step\n",
      "Emotion (FER): Neutral\n",
      "1/1 [==============================] - 0s 34ms/step\n"
     ]
    },
    {
     "name": "stderr",
     "output_type": "stream",
     "text": [
      "D:\\Softwares\\Anaconda\\Lib\\site-packages\\sklearn\\base.py:439: UserWarning: X does not have valid feature names, but StandardScaler was fitted with feature names\n",
      "  warnings.warn(\n",
      "D:\\Softwares\\Anaconda\\Lib\\site-packages\\sklearn\\base.py:439: UserWarning: X does not have valid feature names, but StandardScaler was fitted with feature names\n",
      "  warnings.warn(\n"
     ]
    },
    {
     "name": "stdout",
     "output_type": "stream",
     "text": [
      "Emotion (FER): Angry\n",
      "Body Language: neutral [0.01 0.98 0.01]\n",
      "1/1 [==============================] - 0s 30ms/step\n",
      "Emotion (FER): Angry\n",
      "1/1 [==============================] - ETA: 0s"
     ]
    },
    {
     "name": "stderr",
     "output_type": "stream",
     "text": [
      "D:\\Softwares\\Anaconda\\Lib\\site-packages\\sklearn\\base.py:439: UserWarning: X does not have valid feature names, but StandardScaler was fitted with feature names\n",
      "  warnings.warn(\n",
      "D:\\Softwares\\Anaconda\\Lib\\site-packages\\sklearn\\base.py:439: UserWarning: X does not have valid feature names, but StandardScaler was fitted with feature names\n",
      "  warnings.warn(\n"
     ]
    },
    {
     "name": "stdout",
     "output_type": "stream",
     "text": [
      "1/1 [==============================] - 0s 32ms/step\n",
      "Emotion (FER): Angry\n",
      "Body Language: neutral [0.01 0.98 0.01]\n",
      "1/1 [==============================] - 0s 33ms/step\n"
     ]
    },
    {
     "name": "stderr",
     "output_type": "stream",
     "text": [
      "D:\\Softwares\\Anaconda\\Lib\\site-packages\\sklearn\\base.py:439: UserWarning: X does not have valid feature names, but StandardScaler was fitted with feature names\n",
      "  warnings.warn(\n",
      "D:\\Softwares\\Anaconda\\Lib\\site-packages\\sklearn\\base.py:439: UserWarning: X does not have valid feature names, but StandardScaler was fitted with feature names\n",
      "  warnings.warn(\n"
     ]
    },
    {
     "name": "stdout",
     "output_type": "stream",
     "text": [
      "Emotion (FER): Angry\n",
      "1/1 [==============================] - 0s 35ms/step\n",
      "Emotion (FER): Angry\n",
      "Body Language: neutral [0.01 0.98 0.01]\n",
      "1/1 [==============================] - 0s 33ms/step\n",
      "Emotion (FER): Neutral\n",
      "1/1 [==============================] - ETA: 0s"
     ]
    },
    {
     "name": "stderr",
     "output_type": "stream",
     "text": [
      "D:\\Softwares\\Anaconda\\Lib\\site-packages\\sklearn\\base.py:439: UserWarning: X does not have valid feature names, but StandardScaler was fitted with feature names\n",
      "  warnings.warn(\n",
      "D:\\Softwares\\Anaconda\\Lib\\site-packages\\sklearn\\base.py:439: UserWarning: X does not have valid feature names, but StandardScaler was fitted with feature names\n",
      "  warnings.warn(\n"
     ]
    },
    {
     "name": "stdout",
     "output_type": "stream",
     "text": [
      "1/1 [==============================] - 0s 31ms/step\n",
      "Emotion (FER): Angry\n",
      "Body Language: neutral [0.01 0.98 0.01]\n",
      "1/1 [==============================] - 0s 31ms/step\n",
      "Emotion (FER): Angry\n",
      "1/1 [==============================] - ETA: 0s"
     ]
    },
    {
     "name": "stderr",
     "output_type": "stream",
     "text": [
      "D:\\Softwares\\Anaconda\\Lib\\site-packages\\sklearn\\base.py:439: UserWarning: X does not have valid feature names, but StandardScaler was fitted with feature names\n",
      "  warnings.warn(\n",
      "D:\\Softwares\\Anaconda\\Lib\\site-packages\\sklearn\\base.py:439: UserWarning: X does not have valid feature names, but StandardScaler was fitted with feature names\n",
      "  warnings.warn(\n"
     ]
    },
    {
     "name": "stdout",
     "output_type": "stream",
     "text": [
      "1/1 [==============================] - 0s 31ms/step\n",
      "Emotion (FER): Angry\n",
      "Body Language: neutral [0.01 0.98 0.01]\n",
      "1/1 [==============================] - 0s 33ms/step\n"
     ]
    },
    {
     "name": "stderr",
     "output_type": "stream",
     "text": [
      "D:\\Softwares\\Anaconda\\Lib\\site-packages\\sklearn\\base.py:439: UserWarning: X does not have valid feature names, but StandardScaler was fitted with feature names\n",
      "  warnings.warn(\n",
      "D:\\Softwares\\Anaconda\\Lib\\site-packages\\sklearn\\base.py:439: UserWarning: X does not have valid feature names, but StandardScaler was fitted with feature names\n",
      "  warnings.warn(\n"
     ]
    },
    {
     "name": "stdout",
     "output_type": "stream",
     "text": [
      "Emotion (FER): Angry\n",
      "1/1 [==============================] - 0s 33ms/step\n",
      "Emotion (FER): Angry\n",
      "Body Language: neutral [0.01 0.98 0.01]\n",
      "1/1 [==============================] - 0s 37ms/step\n"
     ]
    },
    {
     "name": "stderr",
     "output_type": "stream",
     "text": [
      "D:\\Softwares\\Anaconda\\Lib\\site-packages\\sklearn\\base.py:439: UserWarning: X does not have valid feature names, but StandardScaler was fitted with feature names\n",
      "  warnings.warn(\n",
      "D:\\Softwares\\Anaconda\\Lib\\site-packages\\sklearn\\base.py:439: UserWarning: X does not have valid feature names, but StandardScaler was fitted with feature names\n",
      "  warnings.warn(\n"
     ]
    },
    {
     "name": "stdout",
     "output_type": "stream",
     "text": [
      "Emotion (FER): Angry\n",
      "1/1 [==============================] - 0s 37ms/step\n",
      "Emotion (FER): Angry\n",
      "Body Language: neutral [0.01 0.98 0.01]\n",
      "1/1 [==============================] - 0s 34ms/step\n"
     ]
    },
    {
     "name": "stderr",
     "output_type": "stream",
     "text": [
      "D:\\Softwares\\Anaconda\\Lib\\site-packages\\sklearn\\base.py:439: UserWarning: X does not have valid feature names, but StandardScaler was fitted with feature names\n",
      "  warnings.warn(\n",
      "D:\\Softwares\\Anaconda\\Lib\\site-packages\\sklearn\\base.py:439: UserWarning: X does not have valid feature names, but StandardScaler was fitted with feature names\n",
      "  warnings.warn(\n"
     ]
    },
    {
     "name": "stdout",
     "output_type": "stream",
     "text": [
      "Emotion (FER): Happy\n",
      "1/1 [==============================] - 0s 37ms/step\n",
      "Emotion (FER): Angry\n",
      "Error: 'NoneType' object has no attribute 'landmark'\n"
     ]
    },
    {
     "name": "stderr",
     "output_type": "stream",
     "text": [
      "D:\\Softwares\\Anaconda\\Lib\\site-packages\\sklearn\\base.py:439: UserWarning: X does not have valid feature names, but StandardScaler was fitted with feature names\n",
      "  warnings.warn(\n",
      "D:\\Softwares\\Anaconda\\Lib\\site-packages\\sklearn\\base.py:439: UserWarning: X does not have valid feature names, but StandardScaler was fitted with feature names\n",
      "  warnings.warn(\n",
      "D:\\Softwares\\Anaconda\\Lib\\site-packages\\sklearn\\base.py:439: UserWarning: X does not have valid feature names, but StandardScaler was fitted with feature names\n",
      "  warnings.warn(\n",
      "D:\\Softwares\\Anaconda\\Lib\\site-packages\\sklearn\\base.py:439: UserWarning: X does not have valid feature names, but StandardScaler was fitted with feature names\n",
      "  warnings.warn(\n"
     ]
    },
    {
     "name": "stdout",
     "output_type": "stream",
     "text": [
      "Body Language: neutral [0.03 0.97 0.  ]\n",
      "Body Language: neutral [0.03 0.97 0.  ]\n",
      "Error: 'NoneType' object has no attribute 'landmark'\n",
      "Error: 'NoneType' object has no attribute 'landmark'\n",
      "Error: 'NoneType' object has no attribute 'landmark'\n",
      "Error: 'NoneType' object has no attribute 'landmark'\n",
      "Error: 'NoneType' object has no attribute 'landmark'\n",
      "Error: 'NoneType' object has no attribute 'landmark'\n",
      "Error: 'NoneType' object has no attribute 'landmark'\n",
      "Error: 'NoneType' object has no attribute 'landmark'\n",
      "Error: 'NoneType' object has no attribute 'landmark'\n",
      "Error: 'NoneType' object has no attribute 'landmark'\n",
      "Error: 'NoneType' object has no attribute 'landmark'\n",
      "Error: 'NoneType' object has no attribute 'landmark'\n",
      "Error: 'NoneType' object has no attribute 'landmark'\n",
      "Error: 'NoneType' object has no attribute 'landmark'\n",
      "Error: 'NoneType' object has no attribute 'landmark'\n",
      "Error: 'NoneType' object has no attribute 'landmark'\n",
      "Error: 'NoneType' object has no attribute 'landmark'\n",
      "Error: 'NoneType' object has no attribute 'landmark'\n",
      "Error: 'NoneType' object has no attribute 'landmark'\n"
     ]
    }
   ],
   "source": [
    "import cv2\n",
    "import numpy as np\n",
    "from tensorflow.keras.models import model_from_json\n",
    "from tensorflow.keras.preprocessing.image import img_to_array\n",
    "import pickle\n",
    "import pandas as pd\n",
    "import mediapipe as mp\n",
    "\n",
    "# Load FER model\n",
    "fer_model = model_from_json(open(\"Facial Detection\\model.json\", \"r\").read())\n",
    "fer_model.load_weights('Facial Detection\\model.h5')\n",
    "\n",
    "# Load Haar Cascade classifier for face detection\n",
    "face_cascade = cv2.CascadeClassifier('Facial Detection\\haarcascade_frontalface_default.xml')\n",
    "if face_cascade.empty():\n",
    "    print(\"Error loading cascade classifier XML file.\")\n",
    "\n",
    "# Load body language model\n",
    "\n",
    "mp_drawing = mp.solutions.drawing_utils\n",
    "mp_holistic = mp.solutions.holistic\n",
    "\n",
    "with open('body_language_rf_2.pkl', 'rb') as f:\n",
    "    body_language_model = pickle.load(f)\n",
    "\n",
    "cap = cv2.VideoCapture(0)\n",
    "\n",
    "with mp_holistic.Holistic(min_detection_confidence=0.5, min_tracking_confidence=0.5) as holistic:\n",
    "\n",
    "    while cap.isOpened():\n",
    "        ret, frame = cap.read()\n",
    "        if not ret:\n",
    "            break\n",
    "\n",
    "        # Convert the frame to grayscale for face detection\n",
    "        gray_frame = cv2.cvtColor(frame, cv2.COLOR_BGR2GRAY)\n",
    "\n",
    "        # Detect faces using Haar Cascade classifier\n",
    "        faces = face_cascade.detectMultiScale(gray_frame, scaleFactor=1.1, minNeighbors=5, minSize=(30, 30))\n",
    "\n",
    "        # Iterate over each detected face\n",
    "        for (x, y, w, h) in faces:\n",
    "            # Extract the face ROI (Region of Interest)\n",
    "            face_roi = gray_frame[y:y + h, x:x + w]\n",
    "\n",
    "            # Resize the face ROI to match the input shape of the FER model\n",
    "            resized_face = cv2.resize(face_roi, (48, 48))\n",
    "\n",
    "            # Convert the resized face to an array\n",
    "            image_pixels = img_to_array(resized_face)\n",
    "\n",
    "            # Expand dimensions to match the model input shape\n",
    "            image_pixels = np.expand_dims(image_pixels, axis=0)\n",
    "\n",
    "            # Normalize the image\n",
    "            image_pixels /= 255.0\n",
    "\n",
    "            # Perform prediction using FER model\n",
    "            predictions = fer_model.predict(image_pixels)\n",
    "\n",
    "            # Get the predicted class\n",
    "            predicted_class = np.argmax(predictions[0])\n",
    "\n",
    "            # Map predicted class to emotion label\n",
    "            emotion_labels = ['Angry', 'Disgust', 'Fear', 'Happy', 'Sad', 'Surprise', 'Neutral']\n",
    "            emotion_label = emotion_labels[predicted_class]\n",
    "            print(\"Emotion (FER):\", emotion_label)\n",
    "\n",
    "            # Display the emotion label on the frame\n",
    "            cv2.putText(frame, emotion_label, (x, y - 10), cv2.FONT_HERSHEY_SIMPLEX, 0.9, (0, 255, 0), 2)\n",
    "\n",
    "            # Draw a rectangle around the face\n",
    "            cv2.rectangle(frame, (x, y), (x + w, y + h), (255, 0, 0), 2)\n",
    "\n",
    "        # Process body landmarks using Mediapipe\n",
    "        image = cv2.cvtColor(frame, cv2.COLOR_BGR2RGB)\n",
    "        results = holistic.process(image)\n",
    "\n",
    "        # Display body landmarks\n",
    "        # mp_drawing.draw_landmarks(frame, results.face_landmarks, mp_holistic.FACEMESH_TESSELATION,\n",
    "        #                            mp_drawing.DrawingSpec(color=(80, 110, 10), thickness=1, circle_radius=1),\n",
    "        #                            mp_drawing.DrawingSpec(color=(80, 256, 121), thickness=1, circle_radius=1)\n",
    "        #                            )\n",
    "\n",
    "        # mp_drawing.draw_landmarks(frame, results.right_hand_landmarks, mp_holistic.HAND_CONNECTIONS,\n",
    "        #                            mp_drawing.DrawingSpec(color=(80, 22, 10), thickness=2, circle_radius=4),\n",
    "        #                            mp_drawing.DrawingSpec(color=(80, 44, 121), thickness=2, circle_radius=2)\n",
    "        #                            )\n",
    "\n",
    "        # mp_drawing.draw_landmarks(frame, results.left_hand_landmarks, mp_holistic.HAND_CONNECTIONS,\n",
    "        #                            mp_drawing.DrawingSpec(color=(121, 22, 76), thickness=2, circle_radius=4),\n",
    "        #                            mp_drawing.DrawingSpec(color=(121, 44, 250), thickness=2, circle_radius=2)\n",
    "        #                            )\n",
    "\n",
    "        # mp_drawing.draw_landmarks(frame, results.pose_landmarks, mp_holistic.POSE_CONNECTIONS,\n",
    "        #                            mp_drawing.DrawingSpec(color=(245, 117, 66), thickness=2, circle_radius=4),\n",
    "        #                            mp_drawing.DrawingSpec(color=(245, 66, 230), thickness=2, circle_radius=2)\n",
    "        #                            )\n",
    "\n",
    "        # Extract features from body landmarks\n",
    "        try:\n",
    "            pose = results.pose_landmarks.landmark\n",
    "            pose_row = list(np.array([[landmark.x, landmark.y, landmark.z, landmark.visibility] for landmark in pose]).flatten())\n",
    "\n",
    "            face = results.face_landmarks.landmark\n",
    "            face_row = list(np.array([[landmark.x, landmark.y, landmark.z, landmark.visibility] for landmark in face]).flatten())\n",
    "\n",
    "            row = pose_row + face_row\n",
    "\n",
    "            X = pd.DataFrame([row])\n",
    "            body_language_class = body_language_model.predict(X)[0]\n",
    "            body_language_prob = body_language_model.predict_proba(X)[0]\n",
    "            print(\"Body Language:\", body_language_class, body_language_prob)\n",
    "\n",
    "            # Display body language class and probability on the frame\n",
    "            cv2.putText(frame, f\"Body Language: {body_language_class}\", (10, 30), cv2.FONT_HERSHEY_SIMPLEX, 0.7, (0, 255, 0), 2)\n",
    "            cv2.putText(frame, f\"Probability: {max(body_language_prob)}\", (10, 60), cv2.FONT_HERSHEY_SIMPLEX, 0.7, (0, 255, 0), 2)\n",
    "\n",
    "        except Exception as e:\n",
    "            print(\"Error:\", e)\n",
    "\n",
    "        # Display the frame\n",
    "        cv2.imshow('Combined Feed', frame)\n",
    "\n",
    "        # Check if the user pressed 'q' to quit\n",
    "        if cv2.waitKey(1) & 0xFF == ord('q'):\n",
    "            break\n",
    "\n",
    "# Release the capture and close all windows\n",
    "cap.release()\n",
    "cv2.destroyAllWindows()\n"
   ]
  }
 ],
 "metadata": {
  "kernelspec": {
   "display_name": "Python 3 (ipykernel)",
   "language": "python",
   "name": "python3"
  },
  "language_info": {
   "codemirror_mode": {
    "name": "ipython",
    "version": 3
   },
   "file_extension": ".py",
   "mimetype": "text/x-python",
   "name": "python",
   "nbconvert_exporter": "python",
   "pygments_lexer": "ipython3",
   "version": "3.11.7"
  }
 },
 "nbformat": 4,
 "nbformat_minor": 4
}
